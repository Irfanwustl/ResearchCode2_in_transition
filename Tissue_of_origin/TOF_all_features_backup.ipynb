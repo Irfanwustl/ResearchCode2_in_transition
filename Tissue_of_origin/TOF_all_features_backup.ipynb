{
 "cells": [
  {
   "cell_type": "code",
   "execution_count": 1,
   "id": "47cb823a-4221-4809-b864-c7ad7c69408f",
   "metadata": {},
   "outputs": [
    {
     "ename": "KeyboardInterrupt",
     "evalue": "",
     "output_type": "error",
     "traceback": [
      "\u001b[0;31m---------------------------------------------------------------------------\u001b[0m",
      "\u001b[0;31mKeyboardInterrupt\u001b[0m                         Traceback (most recent call last)",
      "Cell \u001b[0;32mIn[1], line 1\u001b[0m\n\u001b[0;32m----> 1\u001b[0m \u001b[38;5;28;01mimport\u001b[39;00m \u001b[38;5;21;01mpandas\u001b[39;00m \u001b[38;5;28;01mas\u001b[39;00m \u001b[38;5;21;01mpd\u001b[39;00m\n\u001b[1;32m      2\u001b[0m \u001b[38;5;28;01mimport\u001b[39;00m \u001b[38;5;21;01mnumpy\u001b[39;00m \u001b[38;5;28;01mas\u001b[39;00m \u001b[38;5;21;01mnp\u001b[39;00m\n\u001b[1;32m      3\u001b[0m \u001b[38;5;28;01mimport\u001b[39;00m \u001b[38;5;21;01mseaborn\u001b[39;00m \u001b[38;5;28;01mas\u001b[39;00m \u001b[38;5;21;01msns\u001b[39;00m\n",
      "File \u001b[0;32m~/miniconda3/envs/myenv/lib/python3.8/site-packages/pandas/__init__.py:11\u001b[0m\n\u001b[1;32m      9\u001b[0m \u001b[38;5;28;01mfor\u001b[39;00m _dependency \u001b[38;5;129;01min\u001b[39;00m _hard_dependencies:\n\u001b[1;32m     10\u001b[0m     \u001b[38;5;28;01mtry\u001b[39;00m:\n\u001b[0;32m---> 11\u001b[0m         \u001b[38;5;28;43m__import__\u001b[39;49m\u001b[43m(\u001b[49m\u001b[43m_dependency\u001b[49m\u001b[43m)\u001b[49m\n\u001b[1;32m     12\u001b[0m     \u001b[38;5;28;01mexcept\u001b[39;00m \u001b[38;5;167;01mImportError\u001b[39;00m \u001b[38;5;28;01mas\u001b[39;00m _e:  \u001b[38;5;66;03m# pragma: no cover\u001b[39;00m\n\u001b[1;32m     13\u001b[0m         _missing_dependencies\u001b[38;5;241m.\u001b[39mappend(\u001b[38;5;124mf\u001b[39m\u001b[38;5;124m\"\u001b[39m\u001b[38;5;132;01m{\u001b[39;00m_dependency\u001b[38;5;132;01m}\u001b[39;00m\u001b[38;5;124m: \u001b[39m\u001b[38;5;132;01m{\u001b[39;00m_e\u001b[38;5;132;01m}\u001b[39;00m\u001b[38;5;124m\"\u001b[39m)\n",
      "File \u001b[0;32m~/miniconda3/envs/myenv/lib/python3.8/site-packages/pytz/__init__.py:20\u001b[0m\n\u001b[1;32m     18\u001b[0m \u001b[38;5;28;01mfrom\u001b[39;00m \u001b[38;5;21;01mpytz\u001b[39;00m\u001b[38;5;21;01m.\u001b[39;00m\u001b[38;5;21;01mexceptions\u001b[39;00m \u001b[38;5;28;01mimport\u001b[39;00m UnknownTimeZoneError\n\u001b[1;32m     19\u001b[0m \u001b[38;5;28;01mfrom\u001b[39;00m \u001b[38;5;21;01mpytz\u001b[39;00m\u001b[38;5;21;01m.\u001b[39;00m\u001b[38;5;21;01mlazy\u001b[39;00m \u001b[38;5;28;01mimport\u001b[39;00m LazyDict, LazyList, LazySet  \u001b[38;5;66;03m# noqa\u001b[39;00m\n\u001b[0;32m---> 20\u001b[0m \u001b[38;5;28;01mfrom\u001b[39;00m \u001b[38;5;21;01mpytz\u001b[39;00m\u001b[38;5;21;01m.\u001b[39;00m\u001b[38;5;21;01mtzinfo\u001b[39;00m \u001b[38;5;28;01mimport\u001b[39;00m unpickler, BaseTzInfo\n\u001b[1;32m     21\u001b[0m \u001b[38;5;28;01mfrom\u001b[39;00m \u001b[38;5;21;01mpytz\u001b[39;00m\u001b[38;5;21;01m.\u001b[39;00m\u001b[38;5;21;01mtzfile\u001b[39;00m \u001b[38;5;28;01mimport\u001b[39;00m build_tzinfo\n\u001b[1;32m     24\u001b[0m \u001b[38;5;66;03m# The IANA (nee Olson) database is updated several times a year.\u001b[39;00m\n",
      "File \u001b[0;32m<frozen importlib._bootstrap>:991\u001b[0m, in \u001b[0;36m_find_and_load\u001b[0;34m(name, import_)\u001b[0m\n",
      "File \u001b[0;32m<frozen importlib._bootstrap>:975\u001b[0m, in \u001b[0;36m_find_and_load_unlocked\u001b[0;34m(name, import_)\u001b[0m\n",
      "File \u001b[0;32m<frozen importlib._bootstrap>:671\u001b[0m, in \u001b[0;36m_load_unlocked\u001b[0;34m(spec)\u001b[0m\n",
      "File \u001b[0;32m<frozen importlib._bootstrap_external>:839\u001b[0m, in \u001b[0;36mexec_module\u001b[0;34m(self, module)\u001b[0m\n",
      "File \u001b[0;32m<frozen importlib._bootstrap_external>:934\u001b[0m, in \u001b[0;36mget_code\u001b[0;34m(self, fullname)\u001b[0m\n",
      "File \u001b[0;32m<frozen importlib._bootstrap_external>:1032\u001b[0m, in \u001b[0;36mget_data\u001b[0;34m(self, path)\u001b[0m\n",
      "\u001b[0;31mKeyboardInterrupt\u001b[0m: "
     ]
    }
   ],
   "source": [
    "import pandas as pd\n",
    "import numpy as np\n",
    "import seaborn as sns\n",
    "import matplotlib.pyplot as plt\n",
    "import warnings\n",
    "from sklearn.exceptions import ConvergenceWarning\n",
    "from sklearn.linear_model import LogisticRegression\n",
    "from sklearn.svm import SVC\n",
    "\n",
    "\n",
    "%load_ext autoreload\n",
    "%autoreload 2\n",
    "import preprocessing\n",
    "import models\n",
    "import plotting_utils"
   ]
  },
  {
   "cell_type": "code",
   "execution_count": null,
   "id": "9ad779ad-6a1b-407b-af2a-636c886470c6",
   "metadata": {},
   "outputs": [],
   "source": [
    "# Suppress all warnings globally (adjust based on specific warnings you want to ignore)\n",
    "# Suppress convergence warnings\n",
    "warnings.filterwarnings('ignore', category=ConvergenceWarning)\n",
    "\n",
    "# Suppress user warnings (such as inappropriate l1_ratio usage)\n",
    "warnings.filterwarnings('ignore', category=UserWarning)\n",
    "#warnings.filterwarnings(\"ignore\", message=\".*l1_ratio parameter is only used when penalty is 'elasticnet'\")"
   ]
  },
  {
   "cell_type": "code",
   "execution_count": null,
   "id": "6d288830-d412-4454-9d59-37b4a3ac2d84",
   "metadata": {},
   "outputs": [],
   "source": [
    "\n",
    "# Example usage:\n",
    "param_grid_rf = {\n",
    "    'n_estimators': [100, 500, 1000, 5000],\n",
    "    'max_depth': [None, 10, 20],\n",
    "    'min_samples_split': [2, 5, 10]\n",
    "}"
   ]
  },
  {
   "cell_type": "code",
   "execution_count": null,
   "id": "867f27b2-399b-4df6-8629-c819217fc9cc",
   "metadata": {},
   "outputs": [],
   "source": [
    "CNA_file = '/Users/irf3irf3/Desktop/offline_workspace/Jessica/Jessica_Model code & inputs/CNA_no_trim_low_1Mb_irf.tsv'\n",
    "Ratio_file = '/Users/irf3irf3/Desktop/offline_workspace/Jessica/Jessica_Model code & inputs/ratios_150_ratio.centered_irf.tsv' ## for non serial files\n",
    "EndMotif_file_with_rest_5 = '/Users/irf3irf3/Desktop/offline_workspace/data/tissue_of_origin/EndMotif_frequency_withRest5.txt'\n",
    "EndMotif_file = '/Users/irf3irf3/Desktop/offline_workspace/data/tissue_of_origin/Not Normalized/EndMotif_frequency_ALL.txt'\n",
    "Output_dir = '/Users/irf3irf3/Desktop/offline_workspace/data/tissue_of_origin/ML_output_dissertation_beforeLOD'\n",
    "\n",
    "CNA = pd.read_csv(CNA_file, sep='\\t', index_col=[0,1,2])\n",
    "Ratio = pd.read_csv(Ratio_file, sep='\\t', index_col=[0,1,2])\n",
    "EndMotif = pd.read_csv(EndMotif_file, sep='\\t', index_col=0)\n",
    "\n",
    "Endmotif_file_with_rest5_df = pd.read_csv(EndMotif_file_with_rest_5, sep='\\t', index_col=0)\n",
    "\n",
    "\n",
    "\n",
    "\n",
    "print(f'before filtering {EndMotif.shape}')\n",
    "# Filter the columns in the first file\n",
    "EndMotif = EndMotif[Endmotif_file_with_rest5_df.columns]\n",
    "\n",
    "print(f'after filtering {EndMotif.shape}')\n",
    "\n",
    "LOOCV_summary = {}\n",
    "Train_test_summary = {}\n",
    "\n",
    "\n",
    "\n",
    "display(CNA.head())\n",
    "display(Ratio.head())\n",
    "display(EndMotif.head())"
   ]
  },
  {
   "cell_type": "code",
   "execution_count": null,
   "id": "be7ad384-8b02-41af-9f58-71d9148b9fa8",
   "metadata": {},
   "outputs": [],
   "source": [
    "EndMotif.columns = EndMotif.columns.str.replace('_sorted_motifs.txt', '')\n",
    "EndMotif.columns = EndMotif.columns.str.replace('.dup_mk_motifs.txt', '')\n",
    "EndMotif.columns = EndMotif.columns.str.replace('_motifs.txt', '')\n",
    "display(EndMotif.head())"
   ]
  },
  {
   "cell_type": "code",
   "execution_count": null,
   "id": "68a7555f-6483-4193-9024-497b24971a7c",
   "metadata": {},
   "outputs": [],
   "source": [
    "# Step 1: Find common columns\n",
    "common_columns = set(EndMotif.columns) & set(CNA.columns) & set(Ratio.columns)\n",
    "common_columns_list = list(common_columns)  # Convert to list\n",
    "\n",
    "# Step 2: Find non-common columns\n",
    "non_common_endmotif = set(EndMotif.columns) - common_columns\n",
    "non_common_cna = set(CNA.columns) - common_columns\n",
    "non_common_ratio = set(Ratio.columns) - common_columns\n",
    "\n",
    "# Print non-common columns\n",
    "print(\"Non-common columns in EndMotif:\", non_common_endmotif)\n",
    "print(\"Non-common columns in CNA:\", non_common_cna)\n",
    "print(\"Non-common columns in Ratio:\", non_common_ratio)\n",
    "\n",
    "# Step 3: Filter DataFrames to keep only common columns\n",
    "EndMotif = EndMotif[common_columns_list]\n",
    "CNA = CNA[common_columns_list]\n",
    "Ratio = Ratio[common_columns_list]\n",
    "\n",
    "\n",
    "print(CNA.shape)\n",
    "display(CNA.head())\n",
    "\n",
    "print(Ratio.shape)\n",
    "display(Ratio.head())\n",
    "\n",
    "print(EndMotif.shape)\n",
    "display(EndMotif.head())"
   ]
  },
  {
   "cell_type": "code",
   "execution_count": null,
   "id": "92b4da93-d7b2-4776-a97d-44b0f9886dd5",
   "metadata": {},
   "outputs": [],
   "source": [
    "# Sort the common columns list alphabetically\n",
    "common_columns_list = sorted(list(common_columns))\n",
    "\n",
    "# Reassign the DataFrames using the sorted common columns list\n",
    "EndMotif = EndMotif[common_columns_list]\n",
    "CNA = CNA[common_columns_list]\n",
    "Ratio = Ratio[common_columns_list]\n",
    "\n",
    "\n",
    "print(CNA.shape)\n",
    "display(CNA.head())\n",
    "\n",
    "print(Ratio.shape)\n",
    "display(Ratio.head())\n",
    "\n",
    "print(EndMotif.shape)\n",
    "display(EndMotif.head())"
   ]
  },
  {
   "cell_type": "code",
   "execution_count": null,
   "id": "ec84026d-b54d-4b43-800c-527888df0b27",
   "metadata": {},
   "outputs": [],
   "source": [
    "CNA_t  = preprocessing.preprocess_dataframe(CNA)\n",
    "display(CNA_t.head(n=10))"
   ]
  },
  {
   "cell_type": "code",
   "execution_count": null,
   "id": "5dc7303d-28da-46f8-82cc-a7e04a018933",
   "metadata": {},
   "outputs": [],
   "source": [
    "Ratio_t = preprocessing.preprocess_dataframe(Ratio)\n",
    "display(Ratio_t.head(n=10))"
   ]
  },
  {
   "cell_type": "code",
   "execution_count": null,
   "id": "598975ab-985b-4a12-b723-c724ce629466",
   "metadata": {},
   "outputs": [],
   "source": [
    "EndMotif_t = preprocessing.preprocess_dataframe(EndMotif)\n",
    "display(EndMotif_t.head(n=10))"
   ]
  },
  {
   "cell_type": "markdown",
   "id": "6d13f302-957d-4a16-ba3d-d5284d0956bf",
   "metadata": {},
   "source": [
    "# Data preparation"
   ]
  },
  {
   "cell_type": "code",
   "execution_count": null,
   "id": "fb9323f7-9e8a-48d0-ab96-6f09da728c30",
   "metadata": {},
   "outputs": [],
   "source": [
    "CNA_t = preprocessing.remove_nan_inf_columns(CNA_t)\n",
    "Ratio_t = preprocessing.remove_nan_inf_columns(Ratio_t)\n",
    "EndMotif_t = preprocessing.normalize_features_by_sample(preprocessing.remove_nan_inf_columns(EndMotif_t))\n",
    "\n",
    "display(CNA_t.head(n=10))\n",
    "display(Ratio_t.head(n=10))\n",
    "display(EndMotif_t.head(n=10))"
   ]
  },
  {
   "cell_type": "code",
   "execution_count": null,
   "id": "d9ac1e28-5fea-465d-a5db-f0fefb8c8259",
   "metadata": {},
   "outputs": [],
   "source": [
    "\n",
    "\n",
    "CNA_t_unique = preprocessing.make_value_unique(CNA_t, 0.015625)\n",
    "display(CNA_t_unique.head(n=10))"
   ]
  },
  {
   "cell_type": "code",
   "execution_count": null,
   "id": "bfaf3a04-9b1f-40b7-935c-3e783a8c8a60",
   "metadata": {},
   "outputs": [],
   "source": [
    "display(CNA_t_unique.describe())\n",
    "display(Ratio_t.describe())\n",
    "display(EndMotif_t.describe())"
   ]
  },
  {
   "cell_type": "markdown",
   "id": "520d15b0-e4a0-43a2-a3d0-cb7260025a97",
   "metadata": {},
   "source": [
    "# ML model"
   ]
  },
  {
   "cell_type": "code",
   "execution_count": null,
   "id": "a941b980-fbde-4fe7-9d4a-12fb97afdca6",
   "metadata": {},
   "outputs": [],
   "source": [
    "\n",
    "preprocessing.plot_class_distribution(EndMotif_t)"
   ]
  },
  {
   "cell_type": "code",
   "execution_count": null,
   "id": "584399ca-e615-49e5-a77f-44084d8132bd",
   "metadata": {},
   "outputs": [],
   "source": [
    "\n",
    "\n",
    "TEST_SIZE = 0.3\n",
    "CNA_train, CNA_test = preprocessing.stratified_train_test_split(CNA_t_unique, test_size=TEST_SIZE)\n",
    "\n",
    "Ratio_train, Ratio_test = preprocessing.stratified_train_test_split(Ratio_t, test_size=TEST_SIZE)\n",
    "\n",
    "EndMotif_train, EndMotif_test = preprocessing.stratified_train_test_split(EndMotif_t, test_size=TEST_SIZE)\n",
    "\n",
    "\n"
   ]
  },
  {
   "cell_type": "code",
   "execution_count": null,
   "id": "a0b94fa4-d55a-4f62-933c-4a3bb754af7f",
   "metadata": {},
   "outputs": [],
   "source": [
    "EndMotif_rf = models.train_model(EndMotif_train, EndMotif_test)"
   ]
  },
  {
   "cell_type": "code",
   "execution_count": null,
   "id": "f2685edd-71a7-405f-b22c-6ce4c0e15872",
   "metadata": {},
   "outputs": [],
   "source": [
    "Ratio_rf = models.train_model(Ratio_train, Ratio_test)"
   ]
  },
  {
   "cell_type": "code",
   "execution_count": null,
   "id": "a8e703ef-6468-454d-bf92-b11d59a0fd80",
   "metadata": {},
   "outputs": [],
   "source": [
    "CNA_rf = models.train_model(CNA_train, CNA_test)"
   ]
  },
  {
   "cell_type": "markdown",
   "id": "8c649c59-dc7e-4bae-9225-5f16bb9b6d55",
   "metadata": {},
   "source": [
    "# Meta Model"
   ]
  },
  {
   "cell_type": "markdown",
   "id": "d3260040-8d88-40d3-9eb6-20ea5cd9d753",
   "metadata": {},
   "source": [
    "## Combine all features to a single dataframe"
   ]
  },
  {
   "cell_type": "code",
   "execution_count": null,
   "id": "9ab5e66c-b255-47bd-adda-ce7d40793c61",
   "metadata": {},
   "outputs": [],
   "source": [
    "\n",
    "CNA_scaled = preprocessing.standardize_dataframe(CNA_t_unique)\n",
    "Ratio_scaled = preprocessing.standardize_dataframe(Ratio_t)\n",
    "EndMotif_scaled = preprocessing.standardize_dataframe(EndMotif_t)\n",
    "\n",
    "\n",
    "\n",
    "\n",
    "\n",
    "# CNA_train, CNA_test = preprocessing.stratified_train_test_split(CNA_t_unique, test_size=TEST_SIZE)\n",
    "\n",
    "# Ratio_train, Ratio_test = preprocessing.stratified_train_test_split(Ratio_t, test_size=TEST_SIZE)\n",
    "\n",
    "# EndMotif_train, EndMotif_test = preprocessing.stratified_train_test_split(EndMotif_t, test_size=TEST_SIZE)\n",
    "\n",
    "display(CNA_scaled.head())"
   ]
  },
  {
   "cell_type": "code",
   "execution_count": null,
   "id": "9cc84198-7cf1-46a8-b7c5-ba8db97c394a",
   "metadata": {},
   "outputs": [],
   "source": [
    "preprocessing.check_scaling(CNA_scaled)"
   ]
  },
  {
   "cell_type": "code",
   "execution_count": null,
   "id": "bdd054fe-ee7a-4b0b-aeca-ff1af1225370",
   "metadata": {},
   "outputs": [],
   "source": [
    "preprocessing.check_scaling(EndMotif_scaled)"
   ]
  },
  {
   "cell_type": "code",
   "execution_count": null,
   "id": "e390e84d-2966-4c1f-9451-2fb5b1c7bff0",
   "metadata": {},
   "outputs": [],
   "source": [
    "import preprocessing\n",
    "\n",
    "combined_df = preprocessing.combine_feature_dfs_with_target([(CNA_scaled, 'CNA_'), (Ratio_scaled, 'Ratio_'), (EndMotif_scaled, 'EndMotif_')])\n",
    "\n",
    "display(combined_df)"
   ]
  },
  {
   "cell_type": "code",
   "execution_count": null,
   "id": "d815377c-bbac-446b-a294-5114d5813cfb",
   "metadata": {},
   "outputs": [],
   "source": [
    "# Assuming 'combined_df' is the DataFrame you've generated\n",
    "# Split the DataFrame using the predefined function\n",
    "train_df, test_df = preprocessing.stratified_train_test_split(combined_df, test_size=TEST_SIZE)\n",
    "\n",
    "# Extract the feature subsets by prefix from train_df and test_df\n",
    "CNA_train_df = preprocessing.filter_columns_by_prefix(train_df, 'CNA_')\n",
    "Ratio_train_df = preprocessing.filter_columns_by_prefix(train_df, 'Ratio_')\n",
    "EndMotif_train_df = preprocessing.filter_columns_by_prefix(train_df, 'EndMotif_')\n",
    "\n",
    "CNA_test_df = preprocessing.filter_columns_by_prefix(test_df, 'CNA_')\n",
    "Ratio_test_df = preprocessing.filter_columns_by_prefix(test_df, 'Ratio_')\n",
    "EndMotif_test_df = preprocessing.filter_columns_by_prefix(test_df, 'EndMotif_')\n",
    "\n"
   ]
  },
  {
   "cell_type": "code",
   "execution_count": null,
   "id": "75c2cd51-33e6-4683-829f-86f9c15aa032",
   "metadata": {},
   "outputs": [],
   "source": [
    "display(EndMotif_train_df)"
   ]
  },
  {
   "cell_type": "code",
   "execution_count": null,
   "id": "71419cf5-e692-45c2-8399-9d2705c70b67",
   "metadata": {},
   "outputs": [],
   "source": [
    "display(CNA_train_df)"
   ]
  },
  {
   "cell_type": "code",
   "execution_count": null,
   "id": "0c6836c5-699f-429f-ab4a-8d8ba1c695fa",
   "metadata": {},
   "outputs": [],
   "source": [
    "# # Train the models on their respective feature subsets using your train_model( function\n",
    "from sklearn.ensemble import RandomForestClassifier\n",
    "model_CNA,CNA_RF_auc = models.train_model(CNA_train_df, CNA_test_df, model = RandomForestClassifier(random_state=0, n_estimators=2000, class_weight='balanced'), param_grid=param_grid_rf, cv=5, search_method='grid',\n",
    "                               save_figures_path=Output_dir+'_/RF_CNA_ROC', \n",
    "                               save_folder=Output_dir+'_/RF_CNA_ROC'       )\n",
    "model_Ratio,Ratio_RF_auc = models.train_model(Ratio_train_df, Ratio_test_df,  model = RandomForestClassifier(random_state=0, n_estimators=2000, class_weight='balanced'), param_grid=param_grid_rf, cv=5,  search_method='grid',\n",
    "                                 save_figures_path=Output_dir+'_/RF_Ratio_ROC', \n",
    "                                 save_folder=Output_dir+'_/RF_Ratio_ROC'       \n",
    "                                \n",
    "                                )\n",
    "model_EndMotif,EndMotif_RF_auc = models.train_model(EndMotif_train_df, EndMotif_test_df,  model = RandomForestClassifier(random_state=0, n_estimators=2000, class_weight='balanced'), param_grid=param_grid_rf, cv=5,search_method='grid',\n",
    "                               save_figures_path=Output_dir+'_/RF_EndMotif_ROC', \n",
    "                               save_folder=Output_dir+'_/RF_EndMotif_ROC'\n",
    "                                    \n",
    "                                   )\n",
    "\n",
    "\n",
    "Train_test_summary['CNA_RF_auc'] = CNA_RF_auc\n",
    "Train_test_summary['Ratio_RF_auc'] = Ratio_RF_auc\n",
    "Train_test_summary['EndMotif_RF_auc'] = EndMotif_RF_auc\n",
    "\n",
    "Train_test_summary\n",
    "\n"
   ]
  },
  {
   "cell_type": "code",
   "execution_count": null,
   "id": "4421e792-cff1-4825-a4c3-81a4654676f8",
   "metadata": {},
   "outputs": [],
   "source": []
  },
  {
   "cell_type": "code",
   "execution_count": null,
   "id": "fb7cad18-d321-47ad-8d43-bc694998779b",
   "metadata": {},
   "outputs": [],
   "source": [
    "models.train_model(train_df, test_df)"
   ]
  },
  {
   "cell_type": "code",
   "execution_count": null,
   "id": "503b6684-1485-4b30-8ba8-0772d80b40c6",
   "metadata": {},
   "outputs": [],
   "source": [
    "param_grid_log_reg = [\n",
    "    {\n",
    "        'penalty': ['l2'],         \n",
    "        'C': [0.01, 0.1, 1, 10, 100],\n",
    "        'solver': ['lbfgs'],       \n",
    "        'max_iter': [200, 500, 1000]\n",
    "    },\n",
    "    {\n",
    "        'penalty': ['l1', 'l2'],   \n",
    "        'C': [0.01, 0.1, 1, 10, 100],\n",
    "        'solver': ['liblinear'],   \n",
    "        'max_iter': [200, 500, 1000]\n",
    "    },\n",
    "    {\n",
    "        'penalty': ['elasticnet'],  # Only include 'elasticnet' here\n",
    "        'C': [0.01, 0.1, 1, 10, 100],\n",
    "        'solver': ['saga'],         \n",
    "        'max_iter': [200, 500, 1000],\n",
    "        'l1_ratio': [0.5]           # Only used with 'elasticnet'\n",
    "    }\n",
    "]\n",
    "\n",
    "\n",
    "\n",
    "\n",
    "\n",
    "#log_reg_model = LogisticRegression(max_iter=1000, random_state=0, class_weight='balanced')\n",
    "\n",
    "\n",
    "\n",
    "\n",
    "# Train with LogisticRegression and hyperparameter tuning using GridSearchCV\n",
    "trained_log_reg_model,_ = models.train_model(\n",
    "        train_df, \n",
    "        test_df, \n",
    "        target_name='target', \n",
    "        model=LogisticRegression(random_state=0, class_weight='balanced'), \n",
    "        param_grid=param_grid_log_reg, \n",
    "        cv=5, \n",
    "        scoring='roc_auc_micro',\n",
    "        search_method='grid'\n",
    ")\n",
    "\n"
   ]
  },
  {
   "cell_type": "code",
   "execution_count": null,
   "id": "dfd836c0-abe8-4784-8fbf-243463024059",
   "metadata": {},
   "outputs": [],
   "source": [
    "param_grid_svm = {\n",
    "    'C': [0.01, 0.1, 1, 10, 100],  # Small to large values to balance underfitting/overfitting\n",
    "    'gamma': ['scale', 'auto', 0.001, 0.01, 0.1, 1],  # Default + specific values\n",
    "    'kernel': ['rbf']  # Keeping RBF fixed (if you want to try others, add 'linear', 'poly', etc.)\n",
    "}\n",
    "\n",
    "models.train_model(\n",
    "    train_df, \n",
    "    test_df, \n",
    "    target_name='target', \n",
    "    model=SVC(kernel='rbf', probability=True, class_weight='balanced', random_state=0), \n",
    "    param_grid=param_grid_svm,  # Ensure you define param_grid for SVM\n",
    "    cv=5, \n",
    "    scoring='roc_auc_micro',\n",
    "    search_method='grid'\n",
    ")"
   ]
  },
  {
   "cell_type": "code",
   "execution_count": null,
   "id": "d7a76fa5-81da-447d-aaf3-5a9c6fa1981b",
   "metadata": {},
   "outputs": [],
   "source": [
    "\n",
    "\n",
    "\n",
    "\n",
    "\n",
    "_,CNA_LogReg_auc = models.train_model(CNA_train_df, CNA_test_df, model=LogisticRegression(random_state=0, class_weight='balanced'), \n",
    "            param_grid=param_grid_log_reg, \n",
    "            cv=5, \n",
    "        \n",
    "            search_method='grid',\n",
    "\n",
    "            save_figures_path=Output_dir+'_/Log_reg_CNA_ROC', \n",
    "            save_folder=Output_dir+'_/Log_reg_CNA_ROC'       \n",
    "                  )\n",
    "    \n",
    "\n",
    "Train_test_summary['CNA_LogReg_auc'] = CNA_LogReg_auc"
   ]
  },
  {
   "cell_type": "code",
   "execution_count": null,
   "id": "f0be810e-c58a-4a81-94e0-5b08a35810d1",
   "metadata": {},
   "outputs": [],
   "source": [
    "_,CNA_SVM_auc = models.train_model(\n",
    "    CNA_train_df, CNA_test_df, \n",
    "    target_name='target', \n",
    "    model=SVC(kernel='rbf', probability=True, class_weight='balanced', random_state=0), \n",
    "    param_grid=param_grid_svm,  # Ensure you define param_grid for SVM\n",
    "    cv=5, \n",
    "    \n",
    "    search_method='grid',\n",
    "\n",
    "    save_figures_path=Output_dir+'_/SVC_CNA_ROC', \n",
    "    save_folder=Output_dir+'_/SVC_CNA_ROC'       \n",
    "    \n",
    ")\n",
    "\n",
    "Train_test_summary['CNA_SVM_auc'] = CNA_SVM_auc\n"
   ]
  },
  {
   "cell_type": "code",
   "execution_count": null,
   "id": "fac30410-fd60-4b58-aa1b-7a10cc82278e",
   "metadata": {},
   "outputs": [],
   "source": [
    "\n",
    "\n",
    "Ratio_logreg_trained_model, Ratio_LogReg_auc = models.train_model(Ratio_train_df, Ratio_test_df, model=LogisticRegression(random_state=0, class_weight='balanced'), \n",
    "            param_grid=param_grid_log_reg, \n",
    "            cv=5, \n",
    "\n",
    "            search_method='grid',\n",
    "            save_figures_path=Output_dir+'_/Log_reg_Ratio_ROC', \n",
    "            save_folder=Output_dir+'_/Log_reg_Ratio_ROC'       \n",
    "                  )\n",
    "\n",
    "Train_test_summary['Ratio_LogReg_auc'] = Ratio_LogReg_auc"
   ]
  },
  {
   "cell_type": "code",
   "execution_count": null,
   "id": "49db3bea-b730-4934-af2d-d5ac1fa4f00f",
   "metadata": {},
   "outputs": [],
   "source": [
    "_, Ratio_SVM_auc = models.train_model(\n",
    "    Ratio_train_df, Ratio_test_df,\n",
    "    target_name='target', \n",
    "    model=SVC(kernel='rbf', probability=True, class_weight='balanced', random_state=0), \n",
    "    param_grid=param_grid_svm,  # Ensure you define param_grid for SVM\n",
    "    cv=5, \n",
    " \n",
    "    search_method='grid',\n",
    "    save_figures_path=Output_dir+'_/SVC_Ratio_ROC', \n",
    "    save_folder=Output_dir+'_/SVC_Ratio_ROC'       \n",
    ")\n",
    "\n",
    "Train_test_summary['Ratio_SVM_auc'] = Ratio_SVM_auc"
   ]
  },
  {
   "cell_type": "code",
   "execution_count": null,
   "id": "dee956bb-891b-4f14-a574-7ac722e8ade4",
   "metadata": {},
   "outputs": [],
   "source": [
    "EndMotif_logreg_trained_model, EndMotif_LogReg_auc= models.train_model(EndMotif_train_df, EndMotif_test_df, model=LogisticRegression(random_state=0, class_weight='balanced'), \n",
    "            param_grid=param_grid_log_reg, \n",
    "            cv=5, \n",
    "          \n",
    "            search_method='grid',\n",
    "            save_auc = Output_dir+'_/Log_reg_Endmotif_ROC',\n",
    "            save_figures_path=Output_dir+'_/Log_reg_EndMotif_ROC', \n",
    "            save_folder=Output_dir+'_/Log_reg_EndMotif_ROC'       \n",
    "    )\n",
    "\n",
    "Train_test_summary['EndMotif_LogReg_auc'] = EndMotif_LogReg_auc"
   ]
  },
  {
   "cell_type": "code",
   "execution_count": null,
   "id": "bc6050d6-e13c-4d06-bdba-5b15dd78a9a2",
   "metadata": {},
   "outputs": [],
   "source": [
    "_,EndMotif_SVM_auc = models.train_model(\n",
    "    EndMotif_train_df, EndMotif_test_df,\n",
    "    target_name='target', \n",
    "    model=SVC(kernel='rbf', probability=True, class_weight='balanced', random_state=0), \n",
    "    param_grid=param_grid_svm,  # Ensure you define param_grid for SVM\n",
    "    cv=5, \n",
    "   \n",
    "    search_method='grid',\n",
    "    save_figures_path=Output_dir+'_/SVC_EndMotif_ROC', \n",
    "        save_folder=Output_dir+'_/SVC_EndMotif_ROC'       \n",
    ")\n",
    "\n",
    "Train_test_summary['EndMotif_SVM_auc'] = EndMotif_SVM_auc"
   ]
  },
  {
   "cell_type": "code",
   "execution_count": null,
   "id": "51102a82-a478-4d8d-92cb-3d3475bc64f9",
   "metadata": {},
   "outputs": [],
   "source": [
    "base_models = [model_CNA, model_Ratio, model_EndMotif]\n",
    "train_dfs = [CNA_train_df, Ratio_train_df, EndMotif_train_df]\n",
    "test_dfs = [CNA_test_df, Ratio_test_df, EndMotif_test_df]\n",
    "\n",
    "meta_classifier = models.train_meta_classifier(base_models, train_dfs, test_dfs)"
   ]
  },
  {
   "cell_type": "code",
   "execution_count": null,
   "id": "de6af3fa-46ae-4752-a599-eb99ab8dae99",
   "metadata": {},
   "outputs": [],
   "source": [
    "# from xgboost import XGBClassifier\n",
    "# # Define your meta-classifier as XGBoost\n",
    "# meta_classifier = XGBClassifier(random_state=0, n_estimators=100, learning_rate=0.1)\n",
    "\n",
    "# Assuming base_models, train_dfs, and test_dfs are already defined\n",
    "meta_classifier, y_meta_test_pred_decoded, y_meta_test = models.train_xgboost_meta_classifier(base_models, train_dfs, test_dfs)\n",
    "\n",
    "# Output the true labels and the predicted labels\n",
    "print(\"True labels:\\n\", y_meta_test.value_counts())\n",
    "print(\"Predicted labels:\\n\", pd.Series(y_meta_test_pred_decoded).value_counts())"
   ]
  },
  {
   "cell_type": "code",
   "execution_count": null,
   "id": "0f21417c-c53a-4617-9fdd-8188007ed28b",
   "metadata": {},
   "outputs": [],
   "source": [
    "# model_CNA = models.train_model(CNA_train_df, CNA_test_df, model = RandomForestClassifier(random_state=0, n_estimators=2000, class_weight='balanced'), param_grid=param_grid_rf, cv=5, scoring='roc_auc_micro', search_method='grid')\n",
    "# model_Ratio = models.train_model(Ratio_train_df, Ratio_test_df,  model = RandomForestClassifier(random_state=0, n_estimators=2000, class_weight='balanced'), param_grid=param_grid_rf, cv=5, scoring='roc_auc_micro', search_method='grid')\n",
    "# model_EndMotif = models.train_model(EndMotif_train_df, EndMotif_test_df,  model = RandomForestClassifier(random_state=0, n_estimators=2000, class_weight='balanced'), param_grid=param_grid_rf, cv=5, scoring='roc_auc_micro', search_method='grid')\n",
    "\n",
    "\n",
    "\n",
    "EndMotif_feature_importance = preprocessing.extract_feature_importances(model_EndMotif, EndMotif_train_df)\n",
    "\n",
    "CNA_feature_importance = preprocessing.extract_feature_importances(model_CNA, CNA_train_df)\n",
    "\n",
    "Ratio_feature_importance = preprocessing.extract_feature_importances(model_Ratio, Ratio_train_df)\n"
   ]
  },
  {
   "cell_type": "code",
   "execution_count": null,
   "id": "177a0330-5396-4a4f-80c9-24df60f5d8ba",
   "metadata": {},
   "outputs": [],
   "source": [
    "\n",
    "print(EndMotif_feature_importance)\n",
    "\n",
    "print(CNA_feature_importance)\n",
    "\n",
    "print(Ratio_feature_importance)"
   ]
  },
  {
   "cell_type": "code",
   "execution_count": null,
   "id": "ad396bd6-ab5a-4c6d-a19b-659e2374b8c4",
   "metadata": {},
   "outputs": [],
   "source": [
    "feature_importances_dict = {\n",
    "    'EndMotif': EndMotif_feature_importance,\n",
    "    'CNA': CNA_feature_importance,\n",
    "    'Ratio': Ratio_feature_importance\n",
    "}\n",
    "\n",
    "train_subset, test_subset = preprocessing.subset_top_k_features(train_df, test_df, k=256, feature_importances_dict=feature_importances_dict, target_name='target')\n",
    "\n",
    "display(train_subset.head())\n",
    "display(test_subset.head())"
   ]
  },
  {
   "cell_type": "code",
   "execution_count": null,
   "id": "346ff774-1f4b-4457-8362-cbd2c42df8b3",
   "metadata": {},
   "outputs": [],
   "source": [
    "# Train with LogisticRegression and hyperparameter tuning using GridSearchCV\n",
    "trained_log_reg_model,_ = models.train_model(\n",
    "        train_subset, \n",
    "        test_subset, \n",
    "        target_name='target', \n",
    "        model=LogisticRegression(random_state=0, class_weight='balanced'), \n",
    "        param_grid=param_grid_log_reg, \n",
    "        cv=5, \n",
    "        scoring='roc_auc_macro',\n",
    "        search_method='grid',\n",
    "        save_auc = Output_dir+'_/pan_fature_ROC'\n",
    ")"
   ]
  },
  {
   "cell_type": "code",
   "execution_count": null,
   "id": "1cf6470c-3408-45a0-95e1-e0372b991634",
   "metadata": {},
   "outputs": [],
   "source": [
    "# import joblib\n",
    "\n",
    "# # Save the model to a file\n",
    "# joblib.dump(trained_log_reg_model, Output_dir+'/trained_log_reg_model.pkl')\n",
    "\n",
    "# train_df.to_csv(Output_dir+\"/train_df.txt\",sep='\\t')\n",
    "# test_df.to_csv(Output_dir+\"/test_df.txt\",sep='\\t')\n",
    "# train_subset.to_csv(Output_dir+\"/train_subset.txt\",sep='\\t')\n",
    "# test_subset.to_csv(Output_dir+\"/train_subset.txt\",sep='\\t')"
   ]
  },
  {
   "cell_type": "markdown",
   "id": "cbaa045e-292b-4ccc-9c9a-b82e16abda04",
   "metadata": {},
   "source": [
    "# LOOCV"
   ]
  },
  {
   "cell_type": "code",
   "execution_count": null,
   "id": "a0d06567-219d-4f8a-9100-0aa635d68c74",
   "metadata": {},
   "outputs": [],
   "source": [
    "# from sklearn.datasets import load_iris\n",
    "# from sklearn.model_selection import train_test_split\n",
    "# import pandas as pd\n",
    "\n",
    "# # Load the Iris dataset\n",
    "# iris = load_iris()\n",
    "\n",
    "# # Create a DataFrame\n",
    "# data_iris = pd.DataFrame(iris.data, columns=iris.feature_names)\n",
    "# data_iris['target'] = iris.target  # Add target column\n",
    "\n",
    "# # Split the dataset into train and test sets\n",
    "# iris_train_df, iris_test_df = train_test_split(data_iris, test_size=0.2, random_state=0, stratify=data_iris['target'])\n",
    "\n",
    "\n",
    "# iris_dataset = models.combine_train_test(iris_train_df, iris_test_df)\n",
    "# # Test the train_model_loocv function\n",
    "# iris_model, iris_loocv_accuracy = models.train_model_loocv(iris_dataset, target_name='target')\n",
    "\n",
    "# # Print the results\n",
    "# print(f\"Final model trained on train_df with LOOCV Accuracy: {iris_loocv_accuracy:.4f}\")\n"
   ]
  },
  {
   "cell_type": "code",
   "execution_count": null,
   "id": "72e84554-dfe9-449c-8299-6e6f92cfc419",
   "metadata": {},
   "outputs": [],
   "source": [
    "# # Load the Breast Cancer dataset\n",
    "# from sklearn.datasets import load_breast_cancer\n",
    "# from sklearn.model_selection import train_test_split\n",
    "# import pandas as pd\n",
    "\n",
    "# # Load the Breast Cancer dataset\n",
    "# breast = load_breast_cancer()\n",
    "\n",
    "# # Create a DataFrame\n",
    "# data_breast = pd.DataFrame(breast.data, columns=breast.feature_names)\n",
    "# data_breast['target'] = breast.target  # Add target column\n",
    "\n",
    "# # Replace numeric target with descriptive labels\n",
    "# data_breast['target'] = data_breast['target'].map({0: 'malignant', 1: 'benign'})\n",
    "\n",
    "# # Split the dataset into train and test sets\n",
    "# breast_train_df, breast_test_df = train_test_split(data_breast, test_size=0.2, random_state=0, stratify=data_breast['target'])\n",
    "\n",
    "# # Combine train and test sets for LOOCV\n",
    "# breast_dataset = models.combine_train_test(breast_train_df, breast_test_df)\n",
    "\n",
    "# # Test the train_model_loocv function\n",
    "# breast_model, breast_loocv_accuracy = models.train_model_loocv(breast_dataset, target_name='target')\n",
    "\n",
    "# # Print the results\n",
    "# print(f\"Final model trained on train_df with LOOCV Accuracy: {breast_loocv_accuracy:.4f}\")\n"
   ]
  },
  {
   "cell_type": "code",
   "execution_count": null,
   "id": "c85053a9-2a9c-4854-90e4-24c6a23df18c",
   "metadata": {},
   "outputs": [],
   "source": [
    "import pandas as pd\n",
    "\n",
    "def subset_rows_by_target(df, target_values):\n",
    "    \"\"\"\n",
    "    Subset rows of a DataFrame based on specific values in the 'target' column.\n",
    "\n",
    "    Parameters:\n",
    "    - df (pd.DataFrame): The DataFrame to subset.\n",
    "    - target_values (list): A list of values to keep in the 'target' column.\n",
    "\n",
    "    Returns:\n",
    "    - pd.DataFrame: A new DataFrame with rows where 'target' is in target_values.\n",
    "    \"\"\"\n",
    "    return df[df['target'].isin(target_values)]\n",
    "\n",
    "# Example usage:\n",
    "# data = {'target': ['Healthy', 'Bladder', 'Cancer', 'Healthy', 'Bladder'],\n",
    "#         'value': [10, 20, 30, 40, 50]}\n",
    "# df = pd.DataFrame(data)\n",
    "# filtered_df = subset_rows_by_target(df, ['Healthy', 'Bladder'])\n",
    "# print(filtered_df)\n"
   ]
  },
  {
   "cell_type": "code",
   "execution_count": null,
   "id": "c172223a-96af-43a0-bdd3-f71f9b7e67f4",
   "metadata": {},
   "outputs": [],
   "source": [
    "\n",
    "\n",
    "# Combine train and test sets for LOOCV\n",
    "EndMotif_dataset = models.combine_train_test(EndMotif_train_df, EndMotif_test_df)\n",
    "\n",
    "# Test the train_model_loocv function\n",
    "#EndMotif_LOOCV_model, EndMotif_LOOCV_accuracy = \n",
    "EndMotif_LogReg_LOOCV_model,  EndMotif_LogReg_LOOCV_auc, EndMotif_LogReg_oof_df=models.train_model_loocv(EndMotif_dataset, target_name='target',model=LogisticRegression(random_state=0, class_weight='balanced'),save_figures_path=Output_dir+'_/LogReg_Endmotif_LOOCV_ROC', save_folder=Output_dir+'_/LogReg_Endmotif_LOOCV_ROC')\n",
    "\n",
    "# Print the results\n",
    "# print(f\"Final model trained on train_df with LOOCV Accuracy: {EndMotif_LOOCV_accuracy:.4f}\")\n",
    "\n",
    "display(EndMotif_LogReg_oof_df.head())\n",
    "\n",
    "LOOCV_summary['EndMotif_LogReg_LOOCV_auc'] = EndMotif_LogReg_LOOCV_auc\n",
    "\n",
    "\n",
    "LOOCV_summary"
   ]
  },
  {
   "cell_type": "code",
   "execution_count": null,
   "id": "f2ffa6e1-e503-4738-9363-019ab28d3f92",
   "metadata": {},
   "outputs": [],
   "source": [
    "# Test the train_model_loocv function\n",
    "_,EndMotif_RF_LOOCV_auc,_=models.train_model_loocv(EndMotif_dataset, target_name='target',model=RandomForestClassifier(random_state=0,n_estimators=2000, class_weight='balanced'),save_figures_path=Output_dir+'_/RF_Endmotif_LOOCV_ROC', save_folder=Output_dir+'_/RF_Endmotif_LOOCV_ROC')\n",
    "\n",
    "LOOCV_summary['EndMotif_RF_LOOCV_auc'] = EndMotif_RF_LOOCV_auc"
   ]
  },
  {
   "cell_type": "code",
   "execution_count": null,
   "id": "a85a4229-18e3-422b-9834-fdb7f037efc3",
   "metadata": {},
   "outputs": [],
   "source": [
    "_,EndMotif_SVM_LOOCV_auc,_ = models.train_model_loocv(EndMotif_dataset, target_name='target',\n",
    "    model=SVC(kernel='rbf', C=1.0, gamma='scale', probability=True, class_weight='balanced'), \n",
    "    save_figures_path=Output_dir+'_/SVM_EndMotif_LOOCV_ROC', \n",
    "    save_folder=Output_dir+'_/SVM_EndMotif_LOOCV_ROC')\n",
    "\n",
    "\n",
    "LOOCV_summary['EndMotif_SVM_LOOCV_auc'] = EndMotif_SVM_LOOCV_auc"
   ]
  },
  {
   "cell_type": "code",
   "execution_count": null,
   "id": "0dc8c8e4-bbd9-46e1-bcba-43e1e3157892",
   "metadata": {},
   "outputs": [],
   "source": [
    "Ratio_dataset = models.combine_train_test(Ratio_train_df, Ratio_test_df)\n",
    "# Test the train_model_loocv function\n",
    "_, Ratio_LogReg_LOOCV_auc, Ratio_LogReg_oof_df = models.train_model_loocv(Ratio_dataset, target_name='target',model=LogisticRegression(random_state=0, class_weight='balanced'),save_figures_path=Output_dir+'_/LogReg_Ratio_LOOCV_ROC', save_folder=Output_dir+'_/LogReg_Ratio_LOOCV_ROC')\n",
    "\n",
    "\n",
    "LOOCV_summary['Ratio_LogReg_LOOCV_auc'] = Ratio_LogReg_LOOCV_auc\n",
    "\n",
    "# Print the results\n",
    "#print(f\"Final model trained on train_df with LOOCV Accuracy: {Ratio_LOOCV_accuracy:.4f}\")"
   ]
  },
  {
   "cell_type": "code",
   "execution_count": null,
   "id": "c6e1a487-76b8-4efe-a60f-4f884423ece0",
   "metadata": {},
   "outputs": [],
   "source": [
    "_,Ratio_RF_LOOCV_auc,_ = models.train_model_loocv(Ratio_dataset, target_name='target',model=RandomForestClassifier(random_state=0,n_estimators=2000, class_weight='balanced'),save_figures_path=Output_dir+'_/RF_Ratio_LOOCV_ROC', save_folder=Output_dir+'_/RF_Ratio_LOOCV_ROC')\n",
    "\n",
    "\n",
    "LOOCV_summary['Ratio_RF_LOOCV_auc'] = Ratio_RF_LOOCV_auc"
   ]
  },
  {
   "cell_type": "code",
   "execution_count": null,
   "id": "06a41cd6-1a7c-44c2-b03b-595ae4afc810",
   "metadata": {},
   "outputs": [],
   "source": [
    "_,Ratio_SVM_LOOCV_auc,_= models.train_model_loocv(Ratio_dataset, target_name='target',\n",
    "    model=SVC(kernel='rbf', C=1.0, gamma='scale', probability=True, class_weight='balanced'), \n",
    "    save_figures_path=Output_dir+'_/SVM_Ratio_LOOCV_ROC', \n",
    "    save_folder=Output_dir+'_/SVM_Ratio_LOOCV_ROC')\n",
    "\n",
    "LOOCV_summary['Ratio_SVM_LOOCV_auc'] = Ratio_SVM_LOOCV_auc"
   ]
  },
  {
   "cell_type": "code",
   "execution_count": null,
   "id": "87262a0f-f7df-481e-9a0a-e81ad971fbd9",
   "metadata": {},
   "outputs": [],
   "source": [
    "Arm_file = '/Users/irf3irf3/Desktop/offline_workspace/Jessica/R code for bladder vs. healthy models/arm_z_wide.tsv'\n",
    "\n",
    "Arm_df = pd.read_csv(Arm_file, sep='\\t')\n",
    "Arm_df = Arm_df.set_index('library')\n",
    "Arm_df.rename(columns={'cohort': 'target'}, inplace=True)\n",
    "Arm_df = Arm_df[Arm_df['split'].isin(['testing', 'training'])]\n",
    "Arm_df.index.name = None\n",
    "Arm_df = Arm_df.drop(columns=['split'])\n",
    "print(Arm_df.shape)\n",
    "display(Arm_df.head())"
   ]
  },
  {
   "cell_type": "code",
   "execution_count": null,
   "id": "d932fd79-9b03-40da-8c0f-89bf93bf9c73",
   "metadata": {},
   "outputs": [],
   "source": [
    "train_Arm_df = Arm_df.loc[EndMotif_train_df.index]\n",
    "test_Arm_df = Arm_df.loc[EndMotif_test_df.index]"
   ]
  },
  {
   "cell_type": "code",
   "execution_count": null,
   "id": "612d49e7-691d-41b7-8a13-3ddf06635e03",
   "metadata": {},
   "outputs": [],
   "source": [
    "train_Arm_df.head()"
   ]
  },
  {
   "cell_type": "code",
   "execution_count": null,
   "id": "dd132f52-a876-4e63-9373-7422ac9a82a6",
   "metadata": {},
   "outputs": [],
   "source": [
    "print(EndMotif_train_df.shape)\n",
    "print(EndMotif_test_df.shape)\n",
    "EndMotif_train_df.head()#, EndMotif_test_df"
   ]
  },
  {
   "cell_type": "code",
   "execution_count": null,
   "id": "10975625-29c2-4bd8-a2cf-676643e183f5",
   "metadata": {},
   "outputs": [],
   "source": [
    "_,Arm_SVM_auc = models.train_model(\n",
    "    train_Arm_df, test_Arm_df,\n",
    "    target_name='target', \n",
    "    model=SVC(kernel='rbf', probability=True, class_weight='balanced', random_state=0), \n",
    "    param_grid=param_grid_svm,  # Ensure you define param_grid for SVM\n",
    "    cv=5, \n",
    "    search_method='grid',\n",
    "    save_figures_path=Output_dir+'_/SVC_Arm_ROC', \n",
    "    save_folder=Output_dir+'_/SVC_Arm_ROC'\n",
    ")\n",
    "\n",
    "Train_test_summary['Arm_SVM_auc'] = Arm_SVM_auc"
   ]
  },
  {
   "cell_type": "code",
   "execution_count": null,
   "id": "2fc73976-69df-4b8f-8b0d-a50ad351613e",
   "metadata": {},
   "outputs": [],
   "source": [
    "Arm_logreg_trained_model,Arm_LogReg_auc = models.train_model(train_Arm_df, test_Arm_df, model=LogisticRegression(random_state=0, class_weight='balanced'), \n",
    "            param_grid=param_grid_log_reg, \n",
    "            cv=5, \n",
    "   \n",
    "            search_method='grid',\n",
    "            save_figures_path=Output_dir+'_/Log_reg_Arm_ROC', \n",
    "            save_folder=Output_dir+'_/Log_reg_Arm_ROC'\n",
    "                   \n",
    "                  )\n",
    "\n",
    "Train_test_summary['Arm_LogReg_auc'] = Arm_LogReg_auc"
   ]
  },
  {
   "cell_type": "code",
   "execution_count": null,
   "id": "1b7271ea-100e-4706-b4c0-59df9843730f",
   "metadata": {},
   "outputs": [],
   "source": [
    "_,Arm_RF_auc = models.train_model(train_Arm_df, test_Arm_df, model = RandomForestClassifier(random_state=0, n_estimators=2000, class_weight='balanced'), param_grid=param_grid_rf, cv=5, scoring='roc_auc_micro', search_method='grid',\n",
    "                save_figures_path=Output_dir+'_/RF_Arm_ROC', \n",
    "                save_folder=Output_dir+'_/RF_Arm_ROC')\n",
    "\n",
    "\n",
    "\n",
    "Train_test_summary['Arm_RF_auc'] =Arm_RF_auc"
   ]
  },
  {
   "cell_type": "code",
   "execution_count": null,
   "id": "10c02cea-2d0c-43c7-9378-f438ef62a7d5",
   "metadata": {},
   "outputs": [],
   "source": [
    "# Test the train_model_loocv function\n",
    "_, Arm_LogReg_LOOCV_auc, Arm_LogReg_oof_df= models.train_model_loocv(Arm_df, target_name='target',model=LogisticRegression(random_state=0, class_weight='balanced'), save_figures_path=Output_dir+'_/LogReg_Arm_LOOCV_ROC', save_folder=Output_dir+'_/LogReg_Arm_LOOCV_ROC')\n",
    "\n",
    "\n",
    "LOOCV_summary['Arm_LogReg_LOOCV_auc'] = Arm_LogReg_LOOCV_auc\n",
    "# Print the results\n",
    "#print(f\"Final model trained on train_df with LOOCV Accuracy: {Arm_LOOCV_accuracy:.4f}\")"
   ]
  },
  {
   "cell_type": "code",
   "execution_count": null,
   "id": "d61e39d7-964c-402f-81f3-414866b2785e",
   "metadata": {},
   "outputs": [],
   "source": [
    "_,Arm_RF_LOOCV_auc,_ = models.train_model_loocv(Arm_df, target_name='target',model=RandomForestClassifier(random_state=0,n_estimators=2000, class_weight='balanced'), save_figures_path=Output_dir+'_/RF_Arm_LOOCV_ROC', save_folder=Output_dir+'_/RF_Arm_LOOCV_ROC')\n",
    "LOOCV_summary['Arm_RF_LOOCV_auc'] = Arm_RF_LOOCV_auc"
   ]
  },
  {
   "cell_type": "code",
   "execution_count": null,
   "id": "fa9612d5-75cc-4588-bfd8-1d6b50494816",
   "metadata": {},
   "outputs": [],
   "source": [
    "_,Arm_SVM_LOOCV_auc,_ = models.train_model_loocv(\n",
    "    Arm_df, \n",
    "    target_name='target',\n",
    "    model=SVC(kernel='rbf', C=1.0, gamma='scale', probability=True, class_weight='balanced'), \n",
    "    save_figures_path=Output_dir+'_/SVM_Arm_LOOCV_ROC', \n",
    "    save_folder=Output_dir+'_/SVM_Arm_LOOCV_ROC'\n",
    ")\n",
    "\n",
    "LOOCV_summary['Arm_SVM_LOOCV_auc'] = Arm_SVM_LOOCV_auc"
   ]
  },
  {
   "cell_type": "markdown",
   "id": "d337844d-3b26-4b95-bdf5-b827da796a69",
   "metadata": {},
   "source": [
    "# XGDB meta classifier"
   ]
  },
  {
   "cell_type": "code",
   "execution_count": null,
   "id": "3f967db2-4968-4c11-932e-a4730fbedfe0",
   "metadata": {},
   "outputs": [],
   "source": [
    "display(Arm_LogReg_oof_df.head())\n",
    "display(EndMotif_LogReg_oof_df.head())\n",
    "display(Ratio_LogReg_oof_df.head())"
   ]
  },
  {
   "cell_type": "code",
   "execution_count": null,
   "id": "170a0ff5-8636-42df-82a0-3003ad11fb02",
   "metadata": {},
   "outputs": [],
   "source": [
    "# Creating copies with prefixed column names\n",
    "Arm_LogReg_oof_prefix = Arm_LogReg_oof_df.add_prefix(\"Arm_\").copy()\n",
    "EndMotif_LogReg_oof_prefix = EndMotif_LogReg_oof_df.add_prefix(\"EndMotif_\").copy()\n",
    "Ratio_LogReg_oof_prefix = Ratio_LogReg_oof_df.add_prefix(\"Ratio_\").copy()\n",
    "\n",
    "# Concatenating and reindexing\n",
    "AllLogReg_predictions = pd.concat([Arm_LogReg_oof_prefix, EndMotif_LogReg_oof_prefix, Ratio_LogReg_oof_prefix], axis=1).reindex(Arm_LogReg_oof_prefix.index)\n",
    "\n",
    "\n",
    "AllLogReg_predictions = AllLogReg_predictions.drop(columns=['Arm_Predicted Label','EndMotif_True Label','EndMotif_Predicted Label','Ratio_True Label','Ratio_Predicted Label'], errors='ignore')\n",
    "\n",
    "AllLogReg_predictions = AllLogReg_predictions.rename(columns={'Arm_True Label':'target'})\n",
    "display(AllLogReg_predictions.head())\n",
    "print(AllLogReg_predictions.shape)\n",
    "print(Ratio_LogReg_oof_df.shape)"
   ]
  },
  {
   "cell_type": "code",
   "execution_count": null,
   "id": "96c06c7e-cd42-4048-a4e9-6498da09cdc7",
   "metadata": {},
   "outputs": [],
   "source": [
    "from xgboost import XGBClassifier\n",
    "_,XGB_AllthreeLogReg_LOOCV_auc,_=models.train_model_loocv_xgb(\n",
    "    AllLogReg_predictions, \n",
    "    target_name='target',\n",
    "    model=XGBClassifier(random_state=0, use_label_encoder=False, eval_metric='logloss'),\n",
    "    save_figures_path=Output_dir+'_/XGB_AllThree_LOOCV_ROC',\n",
    "    save_folder=Output_dir+'_/XGB_AllThree_LOOCV_ROC'\n",
    ")\n",
    "\n",
    "#LOOCV_summary['XGB_AllthreeLogReg_LOOCV_auc'] = XGB_AllthreeLogReg_LOOCV_auc\n",
    "\n"
   ]
  },
  {
   "cell_type": "code",
   "execution_count": null,
   "id": "a5435b34-7d26-493a-ba5b-17d6b6af2f7a",
   "metadata": {},
   "outputs": [],
   "source": [
    "train_AllLogReg_predictions_df = AllLogReg_predictions.loc[EndMotif_train_df.index]\n",
    "test_AllLogReg_predictions_df = AllLogReg_predictions.loc[EndMotif_test_df.index]\n",
    "\n",
    "\n",
    "display(train_AllLogReg_predictions_df.head())\n",
    "display(test_AllLogReg_predictions_df.head())\n",
    "print(train_AllLogReg_predictions_df.shape)\n",
    "print(test_AllLogReg_predictions_df.shape)"
   ]
  },
  {
   "cell_type": "code",
   "execution_count": null,
   "id": "f1d73983-7edc-4f90-b939-80c6237dbfd1",
   "metadata": {},
   "outputs": [],
   "source": [
    "AllLogReg_predictions_xgb_trained_model, XGB_AllthreeLogReg_auc = models.train_model(train_AllLogReg_predictions_df, test_AllLogReg_predictions_df, model=LogisticRegression(random_state=0, class_weight='balanced'), \n",
    "            param_grid=param_grid_log_reg, \n",
    "            cv=5, \n",
    "   \n",
    "            search_method='grid',\n",
    "            save_figures_path=Output_dir+'_/XGB_AllThree_ROC', \n",
    "            save_folder=Output_dir+'_/XGB_AllThree_ROC'\n",
    "                   \n",
    "                  )\n",
    "\n",
    "#LOOCV_summary['XGB_AllthreeLogReg_auc'] = XGB_AllthreeLogReg_auc"
   ]
  },
  {
   "cell_type": "code",
   "execution_count": null,
   "id": "f79ec507-de36-48fe-9558-ab604afa06fc",
   "metadata": {},
   "outputs": [],
   "source": [
    "\n",
    "columns_to_drop = [col for col in AllLogReg_predictions.columns if col.startswith('Ratio_')]\n",
    "End_Arm_LogReg_predictions = AllLogReg_predictions.drop(columns=columns_to_drop)\n",
    "display(End_Arm_LogReg_predictions.head())\n",
    "print(End_Arm_LogReg_predictions.shape)"
   ]
  },
  {
   "cell_type": "code",
   "execution_count": null,
   "id": "62c5e5df-92e5-4527-952c-b50d6978b880",
   "metadata": {},
   "outputs": [],
   "source": [
    "_,_,_ = models.train_model_loocv_xgb(\n",
    "    End_Arm_LogReg_predictions, \n",
    "    target_name='target',\n",
    "    model=XGBClassifier(random_state=0, use_label_encoder=False, eval_metric='logloss'),\n",
    "    save_figures_path=Output_dir+'_/XGB_End_Arm_LOOCV_ROC',\n",
    "    save_folder=Output_dir+'_/XGB_End_Arm_LOOCV_ROC'\n",
    ")"
   ]
  },
  {
   "cell_type": "markdown",
   "id": "625294a1-9e0f-4bc6-9288-6b2e2d5ceab4",
   "metadata": {},
   "source": [
    "## Methylation"
   ]
  },
  {
   "cell_type": "code",
   "execution_count": null,
   "id": "fdf4bf1f-e0a1-4de1-887c-201f2c9859a9",
   "metadata": {},
   "outputs": [],
   "source": [
    "Methylation_file = '/Users/irf3irf3/Desktop/offline_workspace/data/Fragma_post_processing/Fragma_Ready_fragma_all_combined_all_files_zeroCols_17/Fragma_Ready_fragma_all_combined_all_files_zeroCols_17.txt_MLready.txt'\n",
    "Methylation = pd.read_csv(Methylation_file, sep= '\\t',index_col = 0)\n",
    "display(Methylation.head())"
   ]
  },
  {
   "cell_type": "code",
   "execution_count": null,
   "id": "92b25174-1cd1-4b5d-8c28-a642915fffd7",
   "metadata": {},
   "outputs": [],
   "source": [
    "\n",
    "Methylation_common_columns = Methylation.columns.intersection(common_columns_list)\n",
    "Methylation = Methylation[Methylation_common_columns]\n",
    "print(Methylation.shape)\n",
    "display(Methylation.head())"
   ]
  },
  {
   "cell_type": "code",
   "execution_count": null,
   "id": "3b6cf5a5-d39c-4450-a79e-2a34a86c8f1f",
   "metadata": {},
   "outputs": [],
   "source": [
    "print(Methylation_common_columns.tolist())"
   ]
  },
  {
   "cell_type": "code",
   "execution_count": null,
   "id": "64705bf1-f2ee-40c3-95c9-ffa4e5d5bbe4",
   "metadata": {},
   "outputs": [],
   "source": [
    "Methylation = preprocessing.preprocess_dataframe(Methylation)\n",
    "display(Methylation.head())"
   ]
  },
  {
   "cell_type": "code",
   "execution_count": null,
   "id": "457542df-4b4c-47d3-8e28-b1b6219f73b4",
   "metadata": {},
   "outputs": [],
   "source": [
    "Methylation_standardized = preprocessing.standardize_dataframe(Methylation)\n",
    "display(Methylation_standardized.head())"
   ]
  },
  {
   "cell_type": "code",
   "execution_count": null,
   "id": "1330d03b-dfc1-4bac-a317-3c16d7003f42",
   "metadata": {},
   "outputs": [],
   "source": [
    "# Test the train_model_loocv function\n",
    "_,_,_ = models.train_model_loocv(Methylation, target_name='target',model=LogisticRegression(random_state=0, class_weight='balanced')) \n",
    "\n",
    "# Print the results\n",
    "#print(f\"Final model trained on train_df with LOOCV Accuracy: {Methylation_LOOCV_accuracy:.4f}\")"
   ]
  },
  {
   "cell_type": "code",
   "execution_count": null,
   "id": "b356098a-7942-4868-a415-2e2a95a4b17c",
   "metadata": {},
   "outputs": [],
   "source": [
    "# Test the train_model_loocv function\n",
    "_, _,_ = models.train_model_loocv(Methylation_standardized, target_name='target',model=LogisticRegression(random_state=0, class_weight='balanced')) \n",
    "\n",
    "# Print the results\n",
    "#print(f\"Final model trained on train_df with LOOCV Accuracy: {Methylation_standardized_LOOCV_accuracy:.4f}\")"
   ]
  },
  {
   "cell_type": "code",
   "execution_count": null,
   "id": "c84eaf70-ab49-40cb-a983-86f967a47d09",
   "metadata": {},
   "outputs": [],
   "source": []
  },
  {
   "cell_type": "markdown",
   "id": "5cf62750-1fa6-45b9-9a9f-239a8d98a509",
   "metadata": {},
   "source": [
    "# Binary: Bladder vs Healthy"
   ]
  },
  {
   "cell_type": "code",
   "execution_count": null,
   "id": "9a4a8b6e-6dc1-4a1b-ab45-e5dc8007337b",
   "metadata": {},
   "outputs": [],
   "source": [
    "target_values = ['Bladder','Healthy']"
   ]
  },
  {
   "cell_type": "code",
   "execution_count": null,
   "id": "6a084c02-aeb2-4893-bb33-8628d925e5e6",
   "metadata": {},
   "outputs": [],
   "source": [
    "# Combine train and test sets for LOOCV\n",
    "EndMotif_dataset_binary = subset_rows_by_target(EndMotif_dataset, target_values)\n",
    "\n",
    "# Test the train_model_loocv function\n",
    "EndMotif_binary_LOOCV_model, EndMotif_binary_LOOCV_accuracy,_ = models.train_model_loocv(EndMotif_dataset_binary, target_name='target',model=LogisticRegression(random_state=0, class_weight='balanced'))\n",
    "\n",
    "# Print the results\n",
    "print(f\"Final model trained on train_df with LOOCV Accuracy: {EndMotif_binary_LOOCV_accuracy:.4f}\")"
   ]
  },
  {
   "cell_type": "code",
   "execution_count": null,
   "id": "91270aa1-5412-4713-82d6-f77e7825acc2",
   "metadata": {},
   "outputs": [],
   "source": [
    "# Combine train and test sets for LOOCV\n",
    "Ratio_dataset_binary = subset_rows_by_target(Ratio_dataset, target_values)\n",
    "\n",
    "# Test the train_model_loocv function\n",
    "Ratio_binary_LOOCV_model, Ratio_binary_LOOCV_accuracy,_ = models.train_model_loocv(Ratio_dataset_binary, target_name='target',model=LogisticRegression(random_state=0, class_weight='balanced'))\n",
    "\n",
    "# Print the results\n",
    "print(f\"Final model trained on train_df with LOOCV Accuracy: {Ratio_binary_LOOCV_accuracy:.4f}\")"
   ]
  },
  {
   "cell_type": "code",
   "execution_count": null,
   "id": "00bce97d-c2cf-4591-a31f-a4cd99be7c61",
   "metadata": {},
   "outputs": [],
   "source": [
    "\n",
    "# NESTED CV\n",
    "#EndMotif_binary_nestedCV_model, EndMotif_binary_nestedCV_accuracy = models.train_model_nested_cv(EndMotif_dataset_binary, target_name='target',model=LogisticRegression(random_state=0, class_weight='balanced'), param_grid=param_grid_log_reg)\n",
    "\n",
    "# Print the results\n",
    "#print(f\"Final model trained on train_df with LOOCV Accuracy: {EndMotif_binary_nestedCV_accuracy:.4f}\")"
   ]
  },
  {
   "cell_type": "code",
   "execution_count": null,
   "id": "9c0ea4af-d00b-4f16-a7e4-12e9192e6757",
   "metadata": {},
   "outputs": [],
   "source": [
    "# Combine train and test sets for LOOCV\n",
    "Arm_dataset_binary = subset_rows_by_target(Arm_df, target_values)\n",
    "\n",
    "# Test the train_model_loocv function\n",
    "Arm_binary_LOOCV_model, Arm_binary_LOOCV_accuracy,_ = models.train_model_loocv(Arm_dataset_binary, target_name='target',model=LogisticRegression(random_state=0, class_weight='balanced'))\n",
    "\n",
    "# Print the results\n",
    "print(f\"Final model trained on train_df with LOOCV Accuracy: {Arm_binary_LOOCV_accuracy:.4f}\")"
   ]
  },
  {
   "cell_type": "code",
   "execution_count": null,
   "id": "14652835-f86e-48ce-bac2-ef14eb8db2ea",
   "metadata": {},
   "outputs": [],
   "source": [
    "# Combine train and test sets for LOOCV\n",
    "Methylation_binary = subset_rows_by_target(Methylation, target_values)\n",
    "\n",
    "# Test the train_model_loocv function\n",
    "Methylation_binary_LOOCV_model, Methylation_binary_LOOCV_accuracy,_ = models.train_model_loocv(Methylation_binary, target_name='target',model=LogisticRegression(random_state=0, class_weight='balanced'))\n",
    "\n",
    "# Print the results\n",
    "print(f\"Final model trained on train_df with LOOCV Accuracy: {Methylation_binary_LOOCV_accuracy:.4f}\")"
   ]
  },
  {
   "cell_type": "markdown",
   "id": "72cb0ee6-7308-418c-8054-39f3c08ea03a",
   "metadata": {},
   "source": [
    "# cfRNA"
   ]
  },
  {
   "cell_type": "code",
   "execution_count": null,
   "id": "be24518e-ec33-4272-bcbe-795ccb5eadf3",
   "metadata": {},
   "outputs": [],
   "source": [
    "cfRNA_file = '/Users/irf3irf3/Desktop/offline_workspace/Jessica/R code for bladder vs. healthy models/cfrna_tpm.tsv'\n",
    "\n",
    "cfRNA = pd.read_csv(cfRNA_file, sep='\\t', index_col=0)\n",
    "\n",
    "cfRNA.rename(columns={'cohort': 'target'}, inplace=True)\n",
    "\n",
    "\n",
    "print(cfRNA.shape)\n",
    "display(cfRNA.head())"
   ]
  },
  {
   "cell_type": "code",
   "execution_count": null,
   "id": "248f79ba-6c6e-46a1-aac1-ccb9dcfafe89",
   "metadata": {},
   "outputs": [],
   "source": [
    "# Replace 'your_file.txt' with the path to your file\n",
    "protein_gene_file = '/Users/irf3irf3/Desktop/offline_workspace/ResearchCode2_in_transition/Ensemble_unique_ProteinCodig_genes_sorted.bed'\n",
    "\n",
    "# Read the file with no header\n",
    "protein_gene_df = pd.read_csv(protein_gene_file, sep='\\t', header=None)\n",
    "\n",
    "# Extract the 4th column (index 3) as a list\n",
    "protein_gene = protein_gene_df[3].tolist()\n",
    "protein_gene[:10]"
   ]
  },
  {
   "cell_type": "code",
   "execution_count": null,
   "id": "311c979b-0cec-4261-a324-cec3ef3b16b9",
   "metadata": {},
   "outputs": [],
   "source": [
    "# Ensure 'target' is included in the subset\n",
    "columns_to_keep = [col for col in protein_gene if col in cfRNA.columns] + ['target','batch']\n",
    "\n",
    "# Subset the DataFrame\n",
    "cfRNA = cfRNA[columns_to_keep]\n",
    "print(cfRNA.shape)\n",
    "display(cfRNA.head())"
   ]
  },
  {
   "cell_type": "code",
   "execution_count": null,
   "id": "7cc43164-a4ea-4849-88a3-dc01a5dd751b",
   "metadata": {},
   "outputs": [],
   "source": [
    "cfRNA_allHealthy=cfRNA[(cfRNA['target'] == 'Healthy')].copy()\n",
    "\n",
    "display(cfRNA_allHealthy.head())\n",
    "print(cfRNA_allHealthy.shape)"
   ]
  },
  {
   "cell_type": "code",
   "execution_count": null,
   "id": "7c05fcf4-08d1-4c31-b4e1-b0ccedc4c4bb",
   "metadata": {},
   "outputs": [],
   "source": [
    "cfRNA_batch1_healthy = cfRNA[~((cfRNA['target'] == 'Healthy') & (cfRNA['batch'] == 2))]\n",
    "cfRNA_batch1_healthy = cfRNA_batch1_healthy.drop(columns=['batch'])\n",
    "cfRNA_batch2_healthy = cfRNA[~((cfRNA['target'] == 'Healthy') & (cfRNA['batch'] == 1))]\n",
    "cfRNA_batch2_healthy = cfRNA_batch2_healthy.drop(columns=['batch'])\n",
    "print(cfRNA_batch1_healthy.shape)\n",
    "print(cfRNA_batch2_healthy.shape)"
   ]
  },
  {
   "cell_type": "code",
   "execution_count": null,
   "id": "b8402624-74fc-40f5-9140-56fcb38245a8",
   "metadata": {},
   "outputs": [],
   "source": [
    "display(cfRNA_batch1_healthy.head())"
   ]
  },
  {
   "cell_type": "code",
   "execution_count": null,
   "id": "e6dc7ab5-e9c1-47ed-a361-cadd5048505c",
   "metadata": {},
   "outputs": [],
   "source": [
    "import pandas as pd\n",
    "\n",
    "def get_most_variable_genes(df, target_col='target', n_genes=10):\n",
    "    \"\"\"\n",
    "    Get a DataFrame containing the most variable genes and the target column.\n",
    "\n",
    "    Parameters:\n",
    "    - df: DataFrame where genes are columns and samples are rows, except for the 'target' column.\n",
    "    - target_col: Name of the column containing the class labels. Default is 'target'.\n",
    "    - n_genes: Number of top variable genes to include. Default is 10.\n",
    "\n",
    "    Returns:\n",
    "    - A DataFrame containing the target column and the most variable genes.\n",
    "    \"\"\"\n",
    "    # Exclude the target column to calculate variance only for genes\n",
    "    gene_df = df.drop(columns=[target_col])\n",
    "    \n",
    "    # Calculate the variance for each gene\n",
    "    variances = gene_df.var()\n",
    "    \n",
    "    # Identify the most variable genes\n",
    "    most_variable_genes = variances.sort_values(ascending=False).head(n_genes).index.tolist()\n",
    "    \n",
    "    # Create a new DataFrame with the target column and the most variable genes\n",
    "    result_df = df[[target_col] + most_variable_genes]\n",
    "    \n",
    "    return result_df"
   ]
  },
  {
   "cell_type": "code",
   "execution_count": null,
   "id": "537c9f43-e001-4629-8a5a-496b3031ce4a",
   "metadata": {},
   "outputs": [],
   "source": [
    "from sklearn.preprocessing import StandardScaler\n",
    "from sklearn.decomposition import PCA\n",
    "import os\n",
    "\n",
    "def plot_pca(df, title, target_col='target', n_components=2, x_lim=None, y_lim=None, z_lim=None, color_map=None,label_point=False,legend_class_tittle='Class'):\n",
    "    \"\"\"\n",
    "    Plot PCA of gene expression data by sample type.\n",
    "\n",
    "    Parameters:\n",
    "    - df: DataFrame where one column is the target (class labels) and others are features.\n",
    "    - title: Title for the PCA plot.\n",
    "    - target_col: Name of the column containing class labels. Default is 'target'.\n",
    "    - n_components: Number of principal components to plot (2 or 3).\n",
    "    - x_lim: Tuple (min, max) for x-axis limits. Default is None, showing the full range.\n",
    "    - y_lim: Tuple (min, max) for y-axis limits. Default is None, showing the full range.\n",
    "    - z_lim: Tuple (min, max) for z-axis limits if n_components=3. Default is None.\n",
    "    - color_map: Optional dictionary mapping class names to colors.\n",
    "    \"\"\"\n",
    "    # Dynamically separate target and features\n",
    "    target = df[target_col].values\n",
    "    features = df.drop(columns=[target_col]).values  # Drop the target column to get features\n",
    "\n",
    "    # Log transformation\n",
    "    features_log_transformed = np.log2(features.astype(float) + 1)\n",
    "\n",
    "    # Scaling\n",
    "    scaler = StandardScaler()\n",
    "    features_scaled = scaler.fit_transform(features_log_transformed)\n",
    "\n",
    "    # PCA\n",
    "    pca = PCA(n_components=n_components)\n",
    "    pca_result = pca.fit_transform(features_scaled)\n",
    "\n",
    "    # Plotting the PCA results with group labels\n",
    "    if n_components == 2:\n",
    "        plt.figure(figsize=(10, 8))\n",
    "        for group in np.unique(target):\n",
    "            idx = target == group\n",
    "            color = color_map[group] if color_map and group in color_map else None\n",
    "            plt.scatter(pca_result[idx, 0], pca_result[idx, 1], label=group, s=100, color=color)\n",
    "\n",
    "        if label_point:\n",
    "            # Label all points with their original indices\n",
    "            for x, y, label in zip(pca_result[:, 0], pca_result[:, 1], df.index):\n",
    "                plt.text(x, y, str(label), fontsize=8, ha='right', va='bottom', color='black')\n",
    "\n",
    "        plt.xlabel('PC1')\n",
    "        plt.ylabel('PC2')\n",
    "    elif n_components == 3:\n",
    "        fig = plt.figure(figsize=(10, 8))\n",
    "        ax = fig.add_subplot(111, projection='3d')\n",
    "        for group in np.unique(target):\n",
    "            idx = target == group\n",
    "            color = color_map[group] if color_map and group in color_map else None\n",
    "            ax.scatter(pca_result[idx, 0], pca_result[idx, 1], pca_result[idx, 2], label=group, s=100, color=color)\n",
    "        ax.set_xlabel('PC1')\n",
    "        ax.set_ylabel('PC2')\n",
    "        ax.set_zlabel('PC3')\n",
    "\n",
    "    # Set axis limits if provided\n",
    "    if n_components == 2:\n",
    "        if x_lim is not None:\n",
    "            plt.xlim(x_lim)\n",
    "        if y_lim is not None:\n",
    "            plt.ylim(y_lim)\n",
    "    elif n_components == 3:\n",
    "        if x_lim is not None:\n",
    "            ax.set_xlim(x_lim)\n",
    "        if y_lim is not None:\n",
    "            ax.set_ylim(y_lim)\n",
    "        if z_lim is not None:\n",
    "            ax.set_zlim(z_lim)\n",
    "\n",
    "   # plt.title(title)\n",
    "    plt.legend(title=legend_class_tittle)\n",
    "\n",
    "\n",
    "    cfRNA_PCA_dir = Output_dir +\"_/cfRNA_PCA\"  # Path to the new directory\n",
    "\n",
    "    # Create the directory if it does not exist\n",
    "    os.makedirs(cfRNA_PCA_dir, exist_ok=True)\n",
    "    plot_filename = cfRNA_PCA_dir+'/'+legend_class_tittle+\"_\"+title+\"_label_point_\"+str(label_point)+\".png\"\n",
    "    plt.savefig(plot_filename, dpi=300, bbox_inches='tight')\n",
    "\n",
    "\n",
    "    plt.show()\n",
    "\n"
   ]
  },
  {
   "cell_type": "code",
   "execution_count": null,
   "id": "d4660338-fc8f-4feb-906b-c35308d931cb",
   "metadata": {},
   "outputs": [],
   "source": [
    "plot_pca(cfRNA_allHealthy.drop(['target'],axis=1), 'All genes',target_col='batch',legend_class_tittle='batch')\n",
    "\n"
   ]
  },
  {
   "cell_type": "code",
   "execution_count": null,
   "id": "6e277eee-8e08-49f5-ab22-5dce9fe74ee4",
   "metadata": {},
   "outputs": [],
   "source": [
    "plot_pca(cfRNA_allHealthy.drop(['target'],axis=1), 'All genes',target_col='batch',legend_class_tittle='batch', label_point=True)\n",
    "\n"
   ]
  },
  {
   "cell_type": "code",
   "execution_count": null,
   "id": "78fae476-f071-459d-8dd8-7a82714ea916",
   "metadata": {},
   "outputs": [],
   "source": [
    "plot_pca(cfRNA_batch1_healthy,  'All genes')"
   ]
  },
  {
   "cell_type": "code",
   "execution_count": null,
   "id": "78d5b1c7-7dd4-4243-889c-63e1c8245510",
   "metadata": {},
   "outputs": [],
   "source": [
    "plot_pca(get_most_variable_genes(cfRNA_batch1_healthy,n_genes=1000),  'top1000')\n"
   ]
  },
  {
   "cell_type": "code",
   "execution_count": null,
   "id": "cf5fd1d4-8740-436a-879a-ed9a0ad3aa46",
   "metadata": {},
   "outputs": [],
   "source": [
    "def log_transform_and_standardize(df, target_column='target'):\n",
    "    \"\"\"\n",
    "    Log-transforms and standardizes features, excluding the target column.\n",
    "    \"\"\"\n",
    "    # Separate features and target\n",
    "    features = df.drop(columns=[target_column])\n",
    "    target = df[target_column]\n",
    "\n",
    "    # Log transformation\n",
    "    log_features = features.applymap(lambda x: np.log2(x + 1))\n",
    "\n",
    "    # Standardization\n",
    "    scaler = StandardScaler()\n",
    "    scaled_features = scaler.fit_transform(log_features)\n",
    "\n",
    "    # Convert back to DataFrame\n",
    "    scaled_df = pd.DataFrame(scaled_features, columns=features.columns, index=df.index)\n",
    "\n",
    "    # Add the target back\n",
    "    scaled_df[target_column] = target\n",
    "\n",
    "    return scaled_df"
   ]
  },
  {
   "cell_type": "code",
   "execution_count": null,
   "id": "8a48831d-73d9-4f96-b475-0ba56d096e60",
   "metadata": {},
   "outputs": [],
   "source": [
    "cfRNA_batch1_healthy_standardized = log_transform_and_standardize(cfRNA_batch1_healthy)\n",
    "cfRNA_batch2_healthy_standardized = log_transform_and_standardize(cfRNA_batch2_healthy)"
   ]
  },
  {
   "cell_type": "code",
   "execution_count": null,
   "id": "d9536929-c1d0-4fc3-89a1-65780b4474e0",
   "metadata": {},
   "outputs": [],
   "source": [
    "\n",
    "cfRNA_batch1_healthy_standardized_mostvariableGenes=get_most_variable_genes(cfRNA_batch1_healthy_standardized ,n_genes=1000)\n",
    "# Test the train_model_loocv function\n",
    "cfRNA_batch1_healthy_standardized_LOOCV_model, cfRNA_batch1_healthy_standardized_LogReg_LOOCV_auc,cfRNA_LogReg_oof_df = models.train_model_loocv(cfRNA_batch1_healthy_standardized_mostvariableGenes, target_name='target',model=LogisticRegression(random_state=0, class_weight='balanced',max_iter=1000),save_figures_path=Output_dir+'_/LogReg_cfRNA_LOOCV_ROC', save_folder=Output_dir+'_/LogReg_cfRNA_LOOCV_ROC')\n",
    "\n",
    "\n",
    "LOOCV_summary['cfRNA_batch1_healthy_standardized_LogReg_LOOCV_auc'] = cfRNA_batch1_healthy_standardized_LogReg_LOOCV_auc\n",
    "# Print the results\n",
    "#print(f\"Final model trained on train_df with LOOCV Accuracy: {cfRNA_batch1_healthy_standardized_LOOCV_accuracy:.4f}\")"
   ]
  },
  {
   "cell_type": "code",
   "execution_count": null,
   "id": "0ccb9355-6627-4814-a32d-6a7f38803350",
   "metadata": {},
   "outputs": [],
   "source": [
    "_,cfRNA_batch1_healthy_standardized_RF_LOOCV_auc,_= models.train_model_loocv(cfRNA_batch1_healthy_standardized_mostvariableGenes, target_name='target',model=RandomForestClassifier(random_state=0,n_estimators=2000, class_weight='balanced'),save_figures_path=Output_dir+'_/RF_cfRNA_LOOCV_ROC', save_folder=Output_dir+'_/RF_cfRNA_LOOCV_ROC')\n",
    "\n",
    "\n",
    "\n",
    "\n",
    "LOOCV_summary['cfRNA_batch1_healthy_standardized_RF_LOOCV_auc'] = cfRNA_batch1_healthy_standardized_RF_LOOCV_auc\n"
   ]
  },
  {
   "cell_type": "code",
   "execution_count": null,
   "id": "3f0d6c03-31ed-42b1-a14a-0f37ff55ea08",
   "metadata": {},
   "outputs": [],
   "source": [
    "_,cfRNA_batch1_healthy_standardized_SVM_LOOCV_auc,_ = models.train_model_loocv(cfRNA_batch1_healthy_standardized_mostvariableGenes, target_name='target',\n",
    "    model=SVC(kernel='rbf', C=1.0, gamma='scale', probability=True, class_weight='balanced'), \n",
    "    save_figures_path=Output_dir+'_/SVM_cfRNA_LOOCV_ROC', \n",
    "    save_folder=Output_dir+'_/SVM_cfRNA_LOOCV_ROC')\n",
    "\n",
    "LOOCV_summary['cfRNA_batch1_healthy_standardized_SVM_LOOCV_auc'] = cfRNA_batch1_healthy_standardized_SVM_LOOCV_auc\n",
    "\n"
   ]
  },
  {
   "cell_type": "code",
   "execution_count": null,
   "id": "d07b0c8c-1d0f-465e-9113-e31958c9bd19",
   "metadata": {},
   "outputs": [],
   "source": [
    "\n",
    "# # Test the train_model_loocv function\n",
    "# cfRNA_batch2_healthy_LOOCV_model, cfRNA_batch2_healthy_LOOCV_accuracy,_ = models.train_model_loocv(get_most_variable_genes(cfRNA_batch2_healthy,n_genes=1000), target_name='target',model=LogisticRegression(random_state=0, class_weight='balanced',max_iter=1000))\n",
    "\n",
    "# # Print the results\n",
    "# print(f\"Final model trained on train_df with LOOCV Accuracy: {cfRNA_batch2_healthy_LOOCV_accuracy:.4f}\")"
   ]
  },
  {
   "cell_type": "code",
   "execution_count": null,
   "id": "a8eeca16-3f44-4fda-bc16-313ba5e8415d",
   "metadata": {},
   "outputs": [],
   "source": [
    "# # Test the train_model_loocv function\n",
    "# cfRNA_batch2_healthy_standardized_LOOCV_model, cfRNA_batch2_healthy_standardized_LOOCV_accuracy,_ = models.train_model_loocv(get_most_variable_genes(cfRNA_batch2_healthy_standardized ,n_genes=1000), target_name='target',model=LogisticRegression(random_state=0, class_weight='balanced',max_iter=1000))\n",
    "\n",
    "# # Print the results\n",
    "# print(f\"Final model trained on train_df with LOOCV Accuracy: {cfRNA_batch2_healthy_standardized_LOOCV_accuracy:.4f}\")"
   ]
  },
  {
   "cell_type": "code",
   "execution_count": null,
   "id": "3f6819aa-2456-44f5-bd13-eb5246679237",
   "metadata": {},
   "outputs": [],
   "source": [
    "cfRNA_batch1_healthy_standardized.head()"
   ]
  },
  {
   "cell_type": "code",
   "execution_count": null,
   "id": "2fb55dcf-ff59-4810-87c1-d8569db88039",
   "metadata": {},
   "outputs": [],
   "source": [
    "cfRNA_batch1_healthy_standardized_mostvariableGenes_train, cfRNA_batch1_healthy_standardized_mostvariableGenes_test = preprocessing.stratified_train_test_split(cfRNA_batch1_healthy_standardized_mostvariableGenes, test_size=TEST_SIZE)\n",
    "\n"
   ]
  },
  {
   "cell_type": "code",
   "execution_count": null,
   "id": "8cc000d4-a3e8-4a55-8e5e-1b50da7a94ff",
   "metadata": {},
   "outputs": [],
   "source": [
    "_,cfRNA_batch1_healthy_standardized_SVM_auc = models.train_model(\n",
    "    cfRNA_batch1_healthy_standardized_mostvariableGenes_train, cfRNA_batch1_healthy_standardized_mostvariableGenes_test,\n",
    "    target_name='target', \n",
    "    model=SVC(kernel='rbf', probability=True, class_weight='balanced', random_state=0), \n",
    "    param_grid=param_grid_svm,  # Ensure you define param_grid for SVM\n",
    "    cv=5, \n",
    "    search_method='grid',\n",
    "    save_figures_path=Output_dir+'_/SVC_cfRNA_ROC', \n",
    "    save_folder=Output_dir+'_/SVC_cfRNA_ROC'\n",
    ")\n",
    "\n",
    "Train_test_summary['cfRNA_batch1_healthy_standardized_SVM_auc'] = cfRNA_batch1_healthy_standardized_SVM_auc\n"
   ]
  },
  {
   "cell_type": "code",
   "execution_count": null,
   "id": "f2f8910b-0d45-4129-80d8-adc401ac3e99",
   "metadata": {},
   "outputs": [],
   "source": [
    "_,cfRNA_batch1_healthy_standardized_LogReg_auc = models.train_model(cfRNA_batch1_healthy_standardized_mostvariableGenes_train, cfRNA_batch1_healthy_standardized_mostvariableGenes_test, model=LogisticRegression(random_state=0, class_weight='balanced'), \n",
    "            param_grid=param_grid_log_reg, \n",
    "            cv=5, \n",
    "   \n",
    "            search_method='grid',\n",
    "            save_figures_path=Output_dir+'_/Log_reg_cfRNA_ROC', \n",
    "            save_folder=Output_dir+'_/Log_reg_cfRNA_ROC'\n",
    "                   \n",
    "                  )\n",
    "\n",
    "Train_test_summary['cfRNA_batch1_healthy_standardized_LogReg_auc'] = cfRNA_batch1_healthy_standardized_LogReg_auc\n",
    "\n",
    "\n"
   ]
  },
  {
   "cell_type": "code",
   "execution_count": null,
   "id": "cbfdcae5-a831-456f-96a9-c12bb847e57a",
   "metadata": {},
   "outputs": [],
   "source": [
    "_, cfRNA_batch1_healthy_standardized_RF_auc = models.train_model(cfRNA_batch1_healthy_standardized_mostvariableGenes_train, cfRNA_batch1_healthy_standardized_mostvariableGenes_test, model = RandomForestClassifier(random_state=0, n_estimators=2000, class_weight='balanced'), param_grid=param_grid_rf, cv=5, scoring='roc_auc_micro', search_method='grid',\n",
    "                save_figures_path=Output_dir+'_/RF_cfRNA_ROC', \n",
    "                save_folder=Output_dir+'_/RF_cfRNA_ROC')\n",
    "\n",
    "Train_test_summary['cfRNA_batch1_healthy_standardized_RF_auc'] = cfRNA_batch1_healthy_standardized_RF_auc\n",
    "\n"
   ]
  },
  {
   "cell_type": "code",
   "execution_count": null,
   "id": "fc9d21bc-e715-4c66-84bb-3f92a4d2e838",
   "metadata": {},
   "outputs": [],
   "source": [
    "Train_test_summary"
   ]
  },
  {
   "cell_type": "code",
   "execution_count": null,
   "id": "4c511ec5-c880-4800-82eb-dba176cdafff",
   "metadata": {},
   "outputs": [],
   "source": [
    "plotting_utils.plot_auc_heatmap(Train_test_summary,save_figure_path=Output_dir+'_/Train_test_summary.png')"
   ]
  },
  {
   "cell_type": "code",
   "execution_count": null,
   "id": "34a62c04-2d76-4f95-8ed2-e29ef96c396d",
   "metadata": {},
   "outputs": [],
   "source": [
    "Train_test_summary_rename = {k: v for k, v in Train_test_summary.items() if \"CNA\" not in k}\n",
    "\n",
    "Train_test_summary_rename= preprocessing.rename_keys(Train_test_summary_rename, {'Arm':'CNA (Arm)','Ratio':'Fragment Length','EndMotif':'End Motif','LogReg':'Logistic Regression','RF':'Random Forest','SVM':'Support Vector Machine'})\n",
    "\n",
    "plotting_utils.plot_auc_heatmap(Train_test_summary_rename,save_figure_path=Output_dir+'_/Train_test_summary_rename.png')\n"
   ]
  },
  {
   "cell_type": "code",
   "execution_count": null,
   "id": "f0182006-7493-4a66-9c80-6de66b43749b",
   "metadata": {},
   "outputs": [],
   "source": [
    "LOOCV_summary"
   ]
  },
  {
   "cell_type": "code",
   "execution_count": null,
   "id": "b670a48f-7673-4563-9eca-6323a8177613",
   "metadata": {},
   "outputs": [],
   "source": [
    "plotting_utils.plot_auc_heatmap(LOOCV_summary, save_figure_path=Output_dir+'_/LOOCV_summary.png')"
   ]
  },
  {
   "cell_type": "code",
   "execution_count": null,
   "id": "36f10697-ab10-4d6d-b7c8-1eb4d326fddf",
   "metadata": {},
   "outputs": [],
   "source": [
    "LOOCV_summary_rename= preprocessing.rename_keys(LOOCV_summary, {'Arm':'CNA (Arm)','Ratio':'Fragment Length','EndMotif':'End Motif','LogReg':'Logistic Regression','RF':'Random Forest','SVM':'Support Vector Machine'})\n",
    "plotting_utils.plot_auc_heatmap(LOOCV_summary_rename,save_figure_path=Output_dir+'_/LOOCV_summary_rename.png')\n"
   ]
  },
  {
   "cell_type": "markdown",
   "id": "0c1ad404-5578-442f-8587-458c30f9e703",
   "metadata": {},
   "source": [
    "# LOD"
   ]
  },
  {
   "cell_type": "code",
   "execution_count": null,
   "id": "ce43dd14-327c-4352-8b97-8daa8098de4c",
   "metadata": {},
   "outputs": [],
   "source": [
    "end_motifs_mix = pd.read_csv('/Users/irf3irf3/Desktop/offline_workspace/data/tissue_of_origin/Jessica_LOD/data/motif_counts_mix.txt',sep='\\t',index_col=0)\n",
    "\n",
    "end_motifs_mix.index.name= None\n",
    "\n",
    "display(end_motifs_mix.head())\n",
    "\n",
    "\n"
   ]
  },
  {
   "cell_type": "code",
   "execution_count": null,
   "id": "096f5ab5-ba5d-4e4a-b859-7cbec1366b4d",
   "metadata": {},
   "outputs": [],
   "source": [
    "end_motifs_mix_t = preprocessing.preprocess_dataframe(end_motifs_mix)\n",
    "\n",
    "display(end_motifs_mix_t.head())"
   ]
  },
  {
   "cell_type": "code",
   "execution_count": null,
   "id": "63e1262c-8f12-4916-9017-914d01bbaa7e",
   "metadata": {},
   "outputs": [],
   "source": [
    "end_motifs_mix_t = preprocessing.normalize_features_by_sample(end_motifs_mix_t)\n",
    "\n",
    "display(end_motifs_mix_t)"
   ]
  },
  {
   "cell_type": "code",
   "execution_count": null,
   "id": "644cbc53-252a-4cc4-b831-d1ec667d091e",
   "metadata": {},
   "outputs": [],
   "source": [
    "# Extract features (excluding 'target')\n",
    "X_test = end_motifs_mix.drop(columns=['target'])\n",
    "\n",
    "# Extract ground truth labels\n",
    "y_true = end_motifs_mix['target']\n",
    "\n",
    "# Make predictions\n",
    "y_pred = EndMotif_logreg_trained_model.predict(X_test)\n",
    "\n",
    "# Get predicted probabilities\n",
    "y_pred_proba = EndMotif_LogReg_LOOCV_model.predict_proba(X_test)\n",
    "\n",
    "# Get the probability of the predicted class\n",
    "predicted_proba = y_pred_proba.max(axis=1)  # Take max probability corresponding to predicted class\n",
    "\n",
    "# Create a DataFrame to store results\n",
    "results_df = end_motifs_mix.copy()\n",
    "results_df['predicted_target'] = y_pred\n",
    "results_df['predicted_probability'] = predicted_proba  # Store max probability\n",
    "results_df['correct_prediction'] = results_df['target'] == results_df['predicted_target']\n",
    "\n",
    "# Get correctly predicted indices\n",
    "correctly_predicted_indices = results_df.index[results_df['correct_prediction']]\n",
    "\n",
    "# Display the results\n",
    "display(results_df)\n"
   ]
  },
  {
   "cell_type": "code",
   "execution_count": null,
   "id": "73ad6656-7c0e-4882-ba21-3d3d41209ee9",
   "metadata": {},
   "outputs": [],
   "source": [
    "import sys\n",
    "sys.exit()"
   ]
  },
  {
   "cell_type": "markdown",
   "id": "3fbf1485-ca27-4a61-90cc-e198309f8c17",
   "metadata": {},
   "source": [
    "# Biological Significance\n",
    "## End motif"
   ]
  },
  {
   "cell_type": "code",
   "execution_count": null,
   "id": "0567fa6b-b50b-4a07-a7c8-cd13a9a8d0cf",
   "metadata": {},
   "outputs": [],
   "source": [
    "EndMotif_feature_importance.head()"
   ]
  },
  {
   "cell_type": "code",
   "execution_count": null,
   "id": "efe4b1ee-5a00-43a6-8228-c7250cf7cd62",
   "metadata": {},
   "outputs": [],
   "source": [
    "EndMotif_feature_importance.tail()"
   ]
  },
  {
   "cell_type": "code",
   "execution_count": null,
   "id": "7611cb9a-3a89-45ae-8751-969b0ac901fe",
   "metadata": {},
   "outputs": [],
   "source": [
    "#train_df, test_df\n",
    "train_df.head()"
   ]
  },
  {
   "cell_type": "code",
   "execution_count": null,
   "id": "82c8fe40-2149-4ad7-b3b2-a954ffd81a2f",
   "metadata": {},
   "outputs": [],
   "source": [
    "import Biological_significace as Biosig\n",
    "import os\n",
    "import pandas as pd\n",
    "from statsmodels.stats.multitest import multipletests\n",
    "\n",
    "def save_plots_and_create_summary(df, feature_df, target_name='target', save_dir=None):\n",
    "    \"\"\"\n",
    "    This function generates and saves box plots for each feature listed in the 'Feature' column of feature_df,\n",
    "    saves the plots using the plot_feature_boxplot_with_anova function, and creates a summary DataFrame containing\n",
    "    the F-statistic, p-value, and Benjamini-Hochberg (BH) corrected p-values for each feature.\n",
    "    \n",
    "    Parameters:\n",
    "    df (pd.DataFrame): The DataFrame containing the features and target.\n",
    "    feature_df (pd.DataFrame): A DataFrame with a column named 'Feature' listing the features to analyze.\n",
    "    target_name (str): The name of the target column in df, default is 'target'.\n",
    "    save_dir (str): The directory where the plots and summary will be saved. This is a required argument.\n",
    "    \n",
    "    Returns:\n",
    "    pd.DataFrame: A DataFrame containing the F-statistic, p-value, and BH-corrected p-value for each feature.\n",
    "    \"\"\"\n",
    "    if not save_dir:\n",
    "        raise ValueError(\"The save_dir argument is required.\")\n",
    "    \n",
    "    # Check if the directory already exists, if so, raise an error\n",
    "    if os.path.exists(save_dir):\n",
    "        raise FileExistsError(f\"The directory '{save_dir}' already exists. Please choose a different directory or remove it.\")\n",
    "    \n",
    "    # Create the save directory\n",
    "    os.makedirs(save_dir)\n",
    "    \n",
    "    summary = []\n",
    "    class_order= ['Bladder','Prostate','RCC','Healthy']\n",
    "    \n",
    "    for feature in feature_df['Feature']:\n",
    "        # Define the save path for each plot\n",
    "        save_path = os.path.join(save_dir, f\"{feature}_boxplot.png\")\n",
    "        \n",
    "        # Generate and save the plot, and get the F-statistic and p-value\n",
    "        f_stat, p_value = Biosig.plot_feature_boxplot_with_kruskal(df, feature, target_name=target_name, save_path=save_path, class_order= class_order)\n",
    "        \n",
    "        # Append the results to the summary list\n",
    "        summary.append({\n",
    "            'Feature': feature,\n",
    "            'F-statistic': f_stat,\n",
    "            'p-value': p_value\n",
    "        })\n",
    "    \n",
    "    # Create a summary DataFrame from the list\n",
    "    summary_df = pd.DataFrame(summary)\n",
    "    \n",
    "    # Perform Benjamini-Hochberg correction\n",
    "    _, bh_corrected_pvals, _, _ = multipletests(summary_df['p-value'], method='fdr_bh')\n",
    "    \n",
    "    # Add the BH-corrected p-values to the DataFrame\n",
    "    summary_df['BH-corrected p-value'] = bh_corrected_pvals\n",
    "    \n",
    "    # Save the summary DataFrame as a CSV file in the save directory\n",
    "    summary_csv_path = os.path.join(save_dir, 'summary.csv')\n",
    "    summary_df.to_csv(summary_csv_path, index=False)\n",
    "    \n",
    "    # Return the summary DataFrame\n",
    "    return summary_df\n"
   ]
  },
  {
   "cell_type": "code",
   "execution_count": null,
   "id": "d85cd461-b54c-4562-b277-603ec1320bca",
   "metadata": {},
   "outputs": [],
   "source": [
    "\n",
    "Biosig.plot_feature_boxplot_with_anova(train_df, 'EndMotif_AATA')\n",
    "Biosig.plot_feature_boxplot_with_anova(train_df, 'EndMotif_AATA',class_order= ['Bladder','Prostate','RCC','Healthy'])\n",
    "Biosig.plot_feature_boxplot_with_anova(train_df, 'EndMotif_AGTG',class_order= ['Bladder','Prostate','RCC','Healthy'])\n",
    "Biosig.plot_feature_boxplot_with_anova(train_df, 'EndMotif_CGAA',class_order= ['Bladder','Prostate','RCC','Healthy'])\n",
    "Biosig.plot_feature_boxplot_with_anova(train_df, 'EndMotif_TCTA',class_order= ['Bladder','Prostate','RCC','Healthy'])\n",
    "Biosig.plot_feature_boxplot_with_anova(train_df, 'EndMotif_TGTG',class_order= ['Bladder','Prostate','RCC','Healthy'])"
   ]
  },
  {
   "cell_type": "code",
   "execution_count": null,
   "id": "1d1bcf57-f01f-4fc5-afc1-9398ed5f25e9",
   "metadata": {},
   "outputs": [],
   "source": [
    "EndMotif_Bio = save_plots_and_create_summary(train_df, EndMotif_feature_importance,  save_dir=Output_dir+'/EdMotif_traindf_KruskalWallis/')\n",
    "display(EndMotif_Bio.head())"
   ]
  },
  {
   "cell_type": "code",
   "execution_count": null,
   "id": "358da259-8b68-4de4-835f-e92e72a402cb",
   "metadata": {},
   "outputs": [],
   "source": []
  }
 ],
 "metadata": {
  "kernelspec": {
   "display_name": "Python 3 (ipykernel)",
   "language": "python",
   "name": "python3"
  },
  "language_info": {
   "codemirror_mode": {
    "name": "ipython",
    "version": 3
   },
   "file_extension": ".py",
   "mimetype": "text/x-python",
   "name": "python",
   "nbconvert_exporter": "python",
   "pygments_lexer": "ipython3",
   "version": "3.8.13"
  }
 },
 "nbformat": 4,
 "nbformat_minor": 5
}
